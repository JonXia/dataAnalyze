{
 "cells": [
  {
   "cell_type": "markdown",
   "metadata": {},
   "source": [
    "# Note"
   ]
  },
  {
   "cell_type": "markdown",
   "metadata": {},
   "source": [
    "## 4.1Numpy-ndarray"
   ]
  },
  {
   "cell_type": "markdown",
   "metadata": {},
   "source": [
    "### Creating ndarrays"
   ]
  },
  {
   "cell_type": "code",
   "execution_count": 1,
   "metadata": {},
   "outputs": [
    {
     "name": "stdout",
     "output_type": "stream",
     "text": [
      "[[5.  6.  7.  8.  9. ]\n",
      " [5.  5.1 5.2 5.3 5.3]]\n",
      "dim is 2, shape is (2, 5), dtype is float64 \n"
     ]
    },
    {
     "data": {
      "text/plain": [
       "array([0], dtype=int8)"
      ]
     },
     "execution_count": 1,
     "metadata": {},
     "output_type": "execute_result"
    }
   ],
   "source": [
    "import numpy as np\n",
    "# 创建ndarray，n-dimension array\n",
    "arr1 = np.array([[5,6,7,8,9],[5.0,5.1,5.2,5.3,5.3]])\n",
    "print(arr1)\n",
    "# array的维度，一个ndarray必有一个shape（一个表示各维度大小的元组）和一个dtype（一个用于说明数组数据类型的对象）\n",
    "print( \"dim is %s, shape is %s, dtype is %s \" %(arr1.ndim, arr1.shape, arr1.dtype))\n",
    "# 当你在本书中看到“数组”、“NumPy数组”、\"ndarray\"时，基本上都指的是同一样东西，即ndarray对象。\n",
    "\n",
    "# 其他创建ndarrays方法，np.zeros，np.ones，np.empty(不安全，有时会返回未初始化的垃圾值)\n",
    "arr_zeros = np.zeros((3,3,2)) # 3,3,2 3个3行2列的array\n",
    "np.zeros(1, dtype=np.int8)\n",
    "# 创建Array的方法如下图"
   ]
  },
  {
   "cell_type": "markdown",
   "metadata": {},
   "source": [
    "![](https://i.loli.net/2019/08/06/F5uJa1GP6Ux8C7m.jpg)"
   ]
  },
  {
   "cell_type": "markdown",
   "metadata": {},
   "source": [
    "![](https://i.loli.net/2019/08/06/Nn18S6v9ZlcEQsa.jpg)"
   ]
  },
  {
   "cell_type": "markdown",
   "metadata": {},
   "source": [
    "### Data Types for ndarrays"
   ]
  },
  {
   "cell_type": "markdown",
   "metadata": {},
   "source": [
    "![](https://i.loli.net/2019/08/06/b2K5AulTRWUz3qi.jpg)\n",
    "![](https://i.loli.net/2019/08/06/mcIDWaHYyKfbSlZ.jpg)"
   ]
  },
  {
   "cell_type": "code",
   "execution_count": 2,
   "metadata": {},
   "outputs": [
    {
     "name": "stdout",
     "output_type": "stream",
     "text": [
      "float64 [1.2 3.5]\n",
      "uint32 [1 3]\n"
     ]
    }
   ],
   "source": [
    "# ndarrays的数据类型\n",
    "# dtype是NumPy灵活交互其它系统的源泉之一，通常只需要知道你所处理的数据的大致类型是浮点数、复数、整数、布尔值、字符串，还是普通的Python对象即可。当你需要控制数据在内存和磁盘中的存储方式时（尤其是对大数据集），那就得了解如何控制存储类型。\n",
    "arr_dtype = np.array([1.2,3.5])\n",
    "print(arr_dtype.dtype, arr_dtype)\n",
    "arr_dtype_float = arr_dtype.astype(np.uint32) # 笔记：调用astype总会创建一个新的数组（一个数据的备份），即使新的dtype与旧的dtype相同。\n",
    "print(arr_dtype_float.dtype, arr_dtype_float)\n",
    "# 可以看到经过类型转换小数部分被截掉"
   ]
  },
  {
   "cell_type": "markdown",
   "metadata": {},
   "source": [
    "### Arithmetic with NumPy Arrays"
   ]
  },
  {
   "cell_type": "code",
   "execution_count": 3,
   "metadata": {},
   "outputs": [
    {
     "name": "stdout",
     "output_type": "stream",
     "text": [
      "[[ 1.  4.  9.]\n",
      " [16. 25. 36.]]\n",
      "[[ True False  True]\n",
      " [False  True False]]\n"
     ]
    }
   ],
   "source": [
    "arr_arithmetic = np.array([[1., 2., 3.], [4., 5., 6.]])\n",
    "arr_arithmetic2 = np.array([[0., 4., 1.], [7., 2., 12.]])\n",
    "print(arr_arithmetic * arr_arithmetic) # 支持python方式的四则运算\n",
    "print(arr_arithmetic>=arr_arithmetic2) # 比大小 不同大小的数组之间的运算叫做广播（broadcasting）"
   ]
  },
  {
   "cell_type": "markdown",
   "metadata": {},
   "source": [
    "### Basic indexing and slicing"
   ]
  },
  {
   "cell_type": "code",
   "execution_count": 4,
   "metadata": {},
   "outputs": [
    {
     "name": "stdout",
     "output_type": "stream",
     "text": [
      "[0 1 2 3 4 5 6 7 8 9]\n",
      "[0 1 2 3 4 5 6 7]\n",
      "[1 1 2 3 4 5 6 7 8 9]\n",
      "[5 6 7]\n",
      "[    1     1     2     3     4 12345     6     7     8     9]\n",
      "[1 1 2 3 4 0 0 0 8 9]\n"
     ]
    }
   ],
   "source": [
    "arr = np.arange(10)\n",
    "print(arr)\n",
    "print(arr[0:8]) # 切片，前闭后开取值\n",
    "arr[0:1]=1.5 # 会裁掉小数点\n",
    "print(arr)\n",
    "# 当将一个标量赋值给一个切片时，该值会自动传播到整个选区。\n",
    "# 跟列表最重要的区别在于，数组切片是原始数组的视图。这意味着数据不会被复制，视图上的任何修改都会直接反映到源数组上。\n",
    "\n",
    "arr_slice = arr[5:8]\n",
    "print(arr_slice)\n",
    "arr_slice[0] = 12345\n",
    "print(arr)\n",
    "arr_slice[:] = 0\n",
    "print(arr)\n",
    "# 注意：如果你想要得到的是ndarray切I片的一份副本而非视图，就需要明确地进行复制操作，例如arr[5:8].copy()。"
   ]
  },
  {
   "cell_type": "markdown",
   "metadata": {},
   "source": [
    "#### Indexing with slices - 切片索引"
   ]
  },
  {
   "cell_type": "code",
   "execution_count": 5,
   "metadata": {},
   "outputs": [
    {
     "name": "stdout",
     "output_type": "stream",
     "text": [
      "(2, 2)\n",
      "注意维度 (3,) (3,) (1, 3)\n"
     ]
    }
   ],
   "source": [
    "arr2d = np.array([[1, 2, 3], [4, 5, 6], [7, 8, 9]])\n",
    "arr2d_sli = arr2d[:2,1:] # 取2行，索引1之后的数据\n",
    "print(arr2d_sli.shape)\n",
    "print(\"注意维度\",arr2d[2].shape, arr2d[2,:].shape, arr2d[2:,:].shape) # 不同切法维度不一样"
   ]
  },
  {
   "cell_type": "markdown",
   "metadata": {},
   "source": [
    "### Boolean Indexing"
   ]
  },
  {
   "cell_type": "code",
   "execution_count": 6,
   "metadata": {},
   "outputs": [
    {
     "name": "stdout",
     "output_type": "stream",
     "text": [
      "[ True False False  True False False False]\n",
      "[[-0.51757722 -0.06438459]\n",
      " [-1.27754778 -1.30871472]\n",
      " [ 0.63166285  0.26476795]\n",
      " [ 1.79013498  0.69125493]\n",
      " [ 0.45738136 -0.72566569]]\n",
      "\n",
      "\n",
      "[[ 1.47067148 -0.03871272 -1.147347    1.73072021]\n",
      " [-0.87121624 -1.41343857 -1.27754778 -1.30871472]\n",
      " [-0.1490908   1.39062903 -1.10313292  0.18843162]\n",
      " [ 0.24957427  1.43002792  0.63166285  0.26476795]]\n"
     ]
    }
   ],
   "source": [
    "# 还有这种操作？\n",
    "names = np.array(['Bob', 'Joe', 'Will', 'Bob', 'Will', 'Joe', 'Joe'])\n",
    "data = np.random.randn(7, 4)\n",
    "\n",
    "## 神奇的来了\n",
    "cond = names == 'Bob' # 根据条件形成布尔索引的ndarray对象\n",
    "print(cond)\n",
    "print(data[~cond, 2:])\n",
    "print(\"\\n\")\n",
    "mask = (names == 'Bob') | (names == 'Will') # 来个稍微复杂的\n",
    "print(data[mask])"
   ]
  },
  {
   "cell_type": "markdown",
   "metadata": {},
   "source": [
    "### Fancy Indexing - 花式索引"
   ]
  },
  {
   "cell_type": "markdown",
   "metadata": {},
   "source": [
    "花式索引（Fancy indexing）是一个NumPy术语，它指的是利用整数数组进行索引。"
   ]
  },
  {
   "cell_type": "code",
   "execution_count": 7,
   "metadata": {},
   "outputs": [
    {
     "data": {
      "text/plain": [
       "array([28, 23, 29, 10])"
      ]
     },
     "execution_count": 7,
     "metadata": {},
     "output_type": "execute_result"
    }
   ],
   "source": [
    "arr = np.arange(32).reshape((8, 4))\n",
    "arr[[-1,5,7,2],[0,3,1,2]] # 利用数组做索引取值\n",
    "# 无论数组是多少维的，花式索引总是一维的。"
   ]
  },
  {
   "cell_type": "code",
   "execution_count": 8,
   "metadata": {},
   "outputs": [
    {
     "data": {
      "text/plain": [
       "array([[ 4,  7,  5,  6],\n",
       "       [20, 23, 21, 22],\n",
       "       [28, 31, 29, 30],\n",
       "       [ 8, 11,  9, 10]])"
      ]
     },
     "execution_count": 8,
     "metadata": {},
     "output_type": "execute_result"
    }
   ],
   "source": [
    "# 这个是没看懂的部分\n",
    "arr[[1, 5, 7, 2]][:, [0, 3, 1, 2]]\n",
    "# 记住，花式索引跟切片不一样，它总是将数据复制到新数组中。"
   ]
  },
  {
   "cell_type": "markdown",
   "metadata": {},
   "source": [
    "### Transposing Arrays and Swapping Axes"
   ]
  },
  {
   "cell_type": "markdown",
   "metadata": {},
   "source": [
    "转置是返回的是源数据的视图，不会复制"
   ]
  },
  {
   "cell_type": "code",
   "execution_count": 9,
   "metadata": {},
   "outputs": [
    {
     "data": {
      "text/plain": [
       "array([[ 0,  4,  8, 12, 16, 20, 24, 28],\n",
       "       [ 1,  5,  9, 13, 17, 21, 25, 29],\n",
       "       [ 2,  6, 10, 14, 18, 22, 26, 30],\n",
       "       [ 3,  7, 11, 15, 19, 23, 27, 31]])"
      ]
     },
     "execution_count": 9,
     "metadata": {},
     "output_type": "execute_result"
    }
   ],
   "source": [
    "arr = np.arange(32).reshape(8,4)\n",
    "arr\n",
    "arr.T # 求转置矩阵"
   ]
  },
  {
   "cell_type": "code",
   "execution_count": 11,
   "metadata": {},
   "outputs": [],
   "source": [
    "# arr.swapaxes(1,2) "
   ]
  },
  {
   "cell_type": "markdown",
   "metadata": {},
   "source": [
    "对于高维数组，transpose需要得到一个由轴编号组成的元组才能对这些轴进行转置"
   ]
  },
  {
   "cell_type": "code",
   "execution_count": 12,
   "metadata": {},
   "outputs": [
    {
     "name": "stdout",
     "output_type": "stream",
     "text": [
      "[[[ 0  1  2  3]\n",
      "  [ 4  5  6  7]]\n",
      "\n",
      " [[ 8  9 10 11]\n",
      "  [12 13 14 15]]]\n"
     ]
    },
    {
     "data": {
      "text/plain": [
       "array([[[ 0,  1,  2,  3],\n",
       "        [ 8,  9, 10, 11]],\n",
       "\n",
       "       [[ 4,  5,  6,  7],\n",
       "        [12, 13, 14, 15]]])"
      ]
     },
     "execution_count": 12,
     "metadata": {},
     "output_type": "execute_result"
    }
   ],
   "source": [
    "arr = np.arange(16).reshape((2, 2, 4))\n",
    "print(arr)\n",
    "arr.transpose((1,0,2))"
   ]
  },
  {
   "cell_type": "markdown",
   "metadata": {},
   "source": [
    "## 4.2 Universal Functions: Fast Element-Wise Array"
   ]
  },
  {
   "cell_type": "code",
   "execution_count": 13,
   "metadata": {},
   "outputs": [
    {
     "name": "stdout",
     "output_type": "stream",
     "text": [
      "[0.         1.         1.41421356 1.73205081 2.         2.23606798\n",
      " 2.44948974 2.64575131 2.82842712 3.        ]\n",
      "[  1.   2.   4.   8.  16.  32.  64. 128. 256. 512.]\n",
      "\n",
      "\n",
      "[-0.14817371 -0.50956303  0.7475166   1.49999971 -1.32344345 -0.8124783\n",
      " -0.10509214  0.80900062] \n",
      " [ 0.2699062   0.25161121 -0.91657561 -0.86063222 -0.35277221 -0.86755598\n",
      " -0.08218792  0.84701054]\n",
      "[ 0.2699062   0.25161121  0.7475166   1.49999971 -0.35277221 -0.8124783\n",
      " -0.08218792  0.84701054]\n",
      "(array([-0.14817371, -0.50956303,  0.7475166 ,  0.49999971, -0.32344345,\n",
      "       -0.8124783 , -0.10509214,  0.80900062]), array([-0., -0.,  0.,  1., -1., -0., -0.,  0.]))\n"
     ]
    }
   ],
   "source": [
    "arr = np.arange(10)\n",
    "# 一元通用函数(unary ufunc)\n",
    "print(np.sqrt(arr))\n",
    "print(np.exp2(arr))\n",
    "print(\"\\n\")\n",
    "# 二元通用函数(binary ufunc)\n",
    "x = np.random.randn(8)\n",
    "y = np.random.randn(8)\n",
    "print(x,\"\\n\", y)\n",
    "print(np.maximum(x, y)) # 求最大元素\n",
    "print(np.modf(x)) # 求浮点数的ndarray的整数和小数部分"
   ]
  },
  {
   "cell_type": "markdown",
   "metadata": {},
   "source": [
    "![](https://i.loli.net/2019/08/06/mHvg87Izl2KDAFM.jpg)\n",
    "![](https://i.loli.net/2019/08/06/zG3xu17bIo4jelK.jpg)\n",
    "![](https://i.loli.net/2019/08/06/FP3LeXN5EySr9ni.jpg)"
   ]
  },
  {
   "cell_type": "markdown",
   "metadata": {},
   "source": [
    "## 4.3 Array-Oriented Programming with Arrays"
   ]
  },
  {
   "cell_type": "markdown",
   "metadata": {},
   "source": [
    "用数组表达式代替循环的做法，通常被称为矢量化。一般来说，矢量化数组运算要比等价的纯Python方式快上一两个数量级（甚至更多），尤其是各种数值计算。"
   ]
  },
  {
   "cell_type": "code",
   "execution_count": 14,
   "metadata": {},
   "outputs": [
    {
     "data": {
      "text/plain": [
       "Text(0.5,1,'$\\\\sqrt{x^2 + y^2}$')"
      ]
     },
     "execution_count": 14,
     "metadata": {},
     "output_type": "execute_result"
    }
   ],
   "source": [
    "points = np.arange(-5, 5, 0.01)\n",
    "xs, ys = np.meshgrid(points, points)\n",
    "z = np.sqrt(xs ** 2 + ys ** 2)\n",
    "import matplotlib.pyplot as plt\n",
    "plt.imshow(z, cmap=plt.cm.gray)\n",
    "plt.colorbar()\n",
    "plt.title(\"$\\sqrt{x^2 + y^2}$\")"
   ]
  },
  {
   "cell_type": "markdown",
   "metadata": {},
   "source": [
    "### 将条件逻辑表述为数组运算"
   ]
  },
  {
   "cell_type": "markdown",
   "metadata": {},
   "source": [
    "numpy.where函数是三元表达式x if condition else y的矢量化版本。假设我们有一个布尔数组和两个值数组："
   ]
  },
  {
   "cell_type": "code",
   "execution_count": 15,
   "metadata": {},
   "outputs": [
    {
     "data": {
      "text/plain": [
       "array([1.1, 2.2, 1.3, 1.4, 2.5])"
      ]
     },
     "execution_count": 15,
     "metadata": {},
     "output_type": "execute_result"
    }
   ],
   "source": [
    "xarr = np.array([1.1, 1.2, 1.3, 1.4, 1.5])\n",
    "yarr = np.array([2.1, 2.2, 2.3, 2.4, 2.5])\n",
    "cond = np.array([True, False, True, True, False])\n",
    "result = np.where(cond, xarr, yarr)\n",
    "result"
   ]
  },
  {
   "cell_type": "markdown",
   "metadata": {},
   "source": [
    "np.where的第二个和第三个参数不必是数组，它们都可以是标量值。在数据分析工作中，where通常用于根据另一个数组而产生一个新的数组。假设有一个由随机数据组成的矩阵，你希望将所有正值替换为2，将所有负值替换为－2。若利用np.where，则会非常简单："
   ]
  },
  {
   "cell_type": "code",
   "execution_count": 16,
   "metadata": {},
   "outputs": [
    {
     "data": {
      "text/plain": [
       "array([[-2,  2],\n",
       "       [-2, -2]])"
      ]
     },
     "execution_count": 16,
     "metadata": {},
     "output_type": "execute_result"
    }
   ],
   "source": [
    "arr = np.random.randn(2, 2)\n",
    "np.where(arr > 0, 2, -2)"
   ]
  },
  {
   "cell_type": "markdown",
   "metadata": {},
   "source": [
    "### 数学和统计方法\n",
    "可以通过数组上的一组数学函数对整个数组或某个轴向的数据进行统计计算。sum、mean以及标准差std等聚合计算（aggregation，通常叫做约简（reduction））既可以当做数组的实例方法调用，也可以当做顶级NumPy函数使用。"
   ]
  },
  {
   "cell_type": "code",
   "execution_count": 17,
   "metadata": {},
   "outputs": [
    {
     "name": "stdout",
     "output_type": "stream",
     "text": [
      "[[  5.22599676   0.88020899  -1.50523991  -3.73127174]\n",
      " [ 12.16291637  -1.02142385 -20.63359821 -12.63313564]\n",
      " [  2.74893516   8.6585726    3.69059894  -1.97535357]\n",
      " [ -4.28526017  -1.4475464  -17.65002318 -10.37614657]\n",
      " [  1.85702851  14.72819561  -3.74959694  -7.27235127]]\n",
      "-1.8164247262133917\n",
      "-36.32849452426783\n",
      "[ 0.21742352 -5.53131033  3.28068828 -8.43974408  1.39081898]\n",
      "[ 3.54192332  4.35960139 -7.96957186 -7.19765176]\n"
     ]
    }
   ],
   "source": [
    "arr = np.random.randn(5, 4) *10\n",
    "print(arr)\n",
    "print(arr.mean())\n",
    "print(arr.sum())\n",
    "print(arr.mean(axis=1)) # 某一行上的值\n",
    "print(arr.mean(axis=0)) # 某一列上的值"
   ]
  },
  {
   "cell_type": "markdown",
   "metadata": {},
   "source": [
    "![](http://upload-images.jianshu.io/upload_images/7178691-a6c6df3ca8e0b98e.png?imageMogr2/auto-orient/strip|imageView2/2/w/1240)"
   ]
  },
  {
   "cell_type": "markdown",
   "metadata": {},
   "source": [
    "### 用于布尔型数组的方法"
   ]
  },
  {
   "cell_type": "code",
   "execution_count": 18,
   "metadata": {},
   "outputs": [
    {
     "name": "stdout",
     "output_type": "stream",
     "text": [
      "True\n",
      "False\n"
     ]
    }
   ],
   "source": [
    "arr = np.random.randn(100)\n",
    "(arr>0).sum() # 根据条件计数\n",
    "\n",
    "bools = np.array([False, False, True, False])\n",
    "print(bools.any()) # any用于测试数组中是否存在一个或多个True，而all则检查数组中所有值是否都是True\n",
    "print(bools.all())"
   ]
  },
  {
   "cell_type": "markdown",
   "metadata": {},
   "source": [
    "### 排序"
   ]
  },
  {
   "cell_type": "code",
   "execution_count": 19,
   "metadata": {},
   "outputs": [
    {
     "name": "stdout",
     "output_type": "stream",
     "text": [
      "[-0.78877254 -0.60163903 -1.84424974 -1.72993978  0.84564889 -0.04343094]\n",
      "[-1.84424974 -1.72993978 -0.78877254 -0.60163903 -0.04343094  0.84564889]\n",
      "[[-0.12571011  0.81024117  0.97671   ]\n",
      " [-0.94964844 -0.99262691 -1.20792571]\n",
      " [-0.79334515  0.05711236 -0.52441487]\n",
      " [ 1.90304785  0.56293855  3.24907153]\n",
      " [-1.70791997 -0.72938913  0.52393841]]\n"
     ]
    },
    {
     "data": {
      "text/plain": [
       "array([[-0.12571011,  0.81024117,  0.97671   ],\n",
       "       [-1.20792571, -0.99262691, -0.94964844],\n",
       "       [-0.79334515, -0.52441487,  0.05711236],\n",
       "       [ 0.56293855,  1.90304785,  3.24907153],\n",
       "       [-1.70791997, -0.72938913,  0.52393841]])"
      ]
     },
     "execution_count": 19,
     "metadata": {},
     "output_type": "execute_result"
    }
   ],
   "source": [
    "arr = np.random.randn(6)\n",
    "print(arr)\n",
    "arr.sort()\n",
    "print(arr) # 对一维数组小到大排序，\n",
    "\n",
    "arr = np.random.randn(5, 3)\n",
    "print(arr)\n",
    "arr.sort(1)\n",
    "arr"
   ]
  },
  {
   "cell_type": "markdown",
   "metadata": {},
   "source": [
    "顶级方法np.sort返回的是数组的已排序副本，而就地排序则会修改数组本身。计算数组分位数最简单的办法是对其进行排序，然后选取特定位置的值："
   ]
  },
  {
   "cell_type": "code",
   "execution_count": 20,
   "metadata": {},
   "outputs": [
    {
     "data": {
      "text/plain": [
       "-1.6545934057866563"
      ]
     },
     "execution_count": 20,
     "metadata": {},
     "output_type": "execute_result"
    }
   ],
   "source": [
    "large_arr = np.random.randn(1000)\n",
    "large_arr.sort()\n",
    "large_arr[int(0.05 * len(large_arr))] # 5% quantile"
   ]
  },
  {
   "cell_type": "markdown",
   "metadata": {},
   "source": [
    "### 唯一化以及其它的集合逻辑"
   ]
  },
  {
   "cell_type": "markdown",
   "metadata": {},
   "source": [
    "NumPy提供了一些针对一维ndarray的基本集合运算。最常用的可能要数np.unique了，它用于找出数组中的唯一值并返回已排序的结果\n",
    "![](http://upload-images.jianshu.io/upload_images/7178691-80e85ae6b9c89ada.png?imageMogr2/auto-orient/strip|imageView2/2/w/1240)"
   ]
  },
  {
   "cell_type": "markdown",
   "metadata": {},
   "source": [
    "## 4.4  用于数组的文件输入输出"
   ]
  },
  {
   "cell_type": "markdown",
   "metadata": {},
   "source": [
    "NumPy能够读写磁盘上的文本数据或二进制数据。这一小节只讨论NumPy的内置二进制格式，因为更多的用户会使用pandas或其它工具加载文本或表格数据"
   ]
  },
  {
   "cell_type": "markdown",
   "metadata": {},
   "source": [
    "np.save和np.load是读写磁盘数组数据的两个主要函数。默认情况下，数组是以未压缩的原始二进制格式保存在扩展名为.npy的文件中的"
   ]
  },
  {
   "cell_type": "code",
   "execution_count": 21,
   "metadata": {},
   "outputs": [
    {
     "data": {
      "text/plain": [
       "array([0, 1, 2, 3, 4, 5, 6, 7, 8, 9])"
      ]
     },
     "execution_count": 21,
     "metadata": {},
     "output_type": "execute_result"
    }
   ],
   "source": [
    "arr = np.arange(10)\n",
    "np.save('some_array', arr)\n",
    "np.load('some_array.npy')"
   ]
  },
  {
   "cell_type": "code",
   "execution_count": 22,
   "metadata": {},
   "outputs": [
    {
     "data": {
      "text/plain": [
       "array([0, 1, 2, 3, 4, 5, 6, 7, 8, 9])"
      ]
     },
     "execution_count": 22,
     "metadata": {},
     "output_type": "execute_result"
    }
   ],
   "source": [
    "np.savez('array_archive.npz', a=arr, b=arr)\n",
    "arch = np.load('array_archive.npz')\n",
    "arch['b']"
   ]
  },
  {
   "cell_type": "code",
   "execution_count": 23,
   "metadata": {},
   "outputs": [],
   "source": [
    "np.savez_compressed('arrays_compressed.npz', a=arr, b=arr) # 将数据压缩"
   ]
  },
  {
   "cell_type": "markdown",
   "metadata": {},
   "source": [
    "## 4.5 线性代数"
   ]
  },
  {
   "cell_type": "markdown",
   "metadata": {},
   "source": [
    "线性代数（如矩阵乘法、矩阵分解、行列式以及其他方阵数学等）是任何数组库的重要组成部分。不像某些语言（如MATLAB），通过*对两个二维数组相乘得到的是一个元素级的积，而不是一个矩阵点积。因此，NumPy提供了一个用于矩阵乘法的dot函数（既是一个数组方法也是numpy命名空间中的一个函数）"
   ]
  },
  {
   "cell_type": "code",
   "execution_count": 24,
   "metadata": {},
   "outputs": [
    {
     "name": "stdout",
     "output_type": "stream",
     "text": [
      "[[1. 2. 3.]\n",
      " [4. 5. 6.]]\n",
      "[[ 6. 23.]\n",
      " [-1.  7.]\n",
      " [ 8.  9.]]\n"
     ]
    },
    {
     "data": {
      "text/plain": [
       "array([[ 28.,  64.],\n",
       "       [ 67., 181.]])"
      ]
     },
     "execution_count": 24,
     "metadata": {},
     "output_type": "execute_result"
    }
   ],
   "source": [
    "x = np.array([[1., 2., 3.], [4., 5., 6.]])\n",
    "y = np.array([[6., 23.], [-1, 7], [8, 9]])\n",
    "print(x)\n",
    "print(y)\n",
    "x.dot(y) # 等价于np.dot(x,y)"
   ]
  },
  {
   "cell_type": "code",
   "execution_count": 25,
   "metadata": {},
   "outputs": [
    {
     "data": {
      "text/plain": [
       "array([ 6., 15.])"
      ]
     },
     "execution_count": 25,
     "metadata": {},
     "output_type": "execute_result"
    }
   ],
   "source": [
    "# np.dot(x, np.ones(3)) \n",
    "x @ np.ones(3) # @当作中缀运算符，进行矩阵乘法"
   ]
  },
  {
   "cell_type": "code",
   "execution_count": 26,
   "metadata": {},
   "outputs": [
    {
     "name": "stdout",
     "output_type": "stream",
     "text": [
      "[[ 13.56173645  11.30654711 -20.49346472   4.34586975 -22.55409626]\n",
      " [ 11.30654711  10.26554595 -17.15276628   3.90430817 -18.25708653]\n",
      " [-20.49346472 -17.15276628  32.17015655  -6.97825774  35.10940176]\n",
      " [  4.34586975   3.90430817  -6.97825774   2.05604279  -8.10899586]\n",
      " [-22.55409626 -18.25708653  35.10940176  -8.10899586  40.51561914]]\n",
      "[[ 1.00000000e+00  7.04537657e-15  4.03833799e-15 -1.22984831e-15\n",
      "   2.23839830e-15]\n",
      " [ 2.77245251e-15  1.00000000e+00  4.18333530e-15  6.44994971e-17\n",
      "   7.14813332e-15]\n",
      " [-2.49070067e-15 -3.78636638e-16  1.00000000e+00 -2.98744914e-16\n",
      "  -1.30785097e-15]\n",
      " [-2.23776423e-14  6.86165874e-15  2.44454845e-15  1.00000000e+00\n",
      "  -1.04699851e-14]\n",
      " [-3.61471786e-15  3.98755186e-15 -1.07959249e-14 -1.27043525e-15\n",
      "   1.00000000e+00]]\n"
     ]
    },
    {
     "data": {
      "text/plain": [
       "array([[-1.13855497e+01,  8.04501619e+00,  3.50753054e-01,\n",
       "        -1.04182480e+01, -5.10848172e+00],\n",
       "       [ 0.00000000e+00, -1.46451295e+00, -1.59813087e+00,\n",
       "         1.52555464e+00,  1.03307738e+00],\n",
       "       [ 0.00000000e+00,  0.00000000e+00, -6.06521967e-01,\n",
       "         1.10496426e-02,  5.44906564e-01],\n",
       "       [ 0.00000000e+00,  0.00000000e+00,  0.00000000e+00,\n",
       "        -1.89291471e+00, -3.80146739e-01],\n",
       "       [ 0.00000000e+00,  0.00000000e+00,  0.00000000e+00,\n",
       "         0.00000000e+00,  1.62608080e-02]])"
      ]
     },
     "execution_count": 26,
     "metadata": {},
     "output_type": "execute_result"
    }
   ],
   "source": [
    "from numpy.linalg import inv, qr\n",
    "X = np.random.randn(5, 5)\n",
    "mat = X.T.dot(X) # 表达式X.T.dot(X)计算X和它的转置X.T的点积。\n",
    "print(inv(mat))\n",
    "print(mat.dot(inv(mat)))\n",
    "q, r = qr(mat)\n",
    "r"
   ]
  },
  {
   "cell_type": "markdown",
   "metadata": {},
   "source": [
    "![](http://upload-images.jianshu.io/upload_images/7178691-dcdb66e49e5f70ea.png?imageMogr2/auto-orient/strip|imageView2/2/w/1240)"
   ]
  },
  {
   "cell_type": "markdown",
   "metadata": {},
   "source": [
    "## 4.6 伪随机数生成"
   ]
  },
  {
   "cell_type": "markdown",
   "metadata": {},
   "source": [
    "numpy.random模块对Python内置的random进行了补充，增加了一些用于高效生成多种概率分布的样本值的函数。例如，你可以用normal来得到一个标准正态分布的4×4样本数组"
   ]
  },
  {
   "cell_type": "code",
   "execution_count": 27,
   "metadata": {},
   "outputs": [
    {
     "data": {
      "text/plain": [
       "array([[ 1.87622585, -0.71011582, -0.34024534,  0.43103755],\n",
       "       [-0.95244904, -0.1017649 ,  0.46832548, -0.52534445],\n",
       "       [ 1.01204535, -1.69383031,  1.44531829,  0.26790109],\n",
       "       [ 1.32578374,  0.3270626 , -0.01671653, -1.02302352]])"
      ]
     },
     "execution_count": 27,
     "metadata": {},
     "output_type": "execute_result"
    }
   ],
   "source": [
    "samples = np.random.normal(size=(4, 4))\n",
    "samples"
   ]
  },
  {
   "cell_type": "markdown",
   "metadata": {},
   "source": [
    "而Python内置的random模块则只能一次生成一个样本值。从下面的测试结果中可以看出，如果需要产生大量样本值，numpy.random快了不止一个数量级"
   ]
  },
  {
   "cell_type": "code",
   "execution_count": 28,
   "metadata": {},
   "outputs": [
    {
     "name": "stdout",
     "output_type": "stream",
     "text": [
      "714 ms ± 29.3 ms per loop (mean ± std. dev. of 7 runs, 1 loop each)\n"
     ]
    }
   ],
   "source": [
    "from random import normalvariate\n",
    "N = 1000000\n",
    "%timeit samples = [normalvariate(0, 1) for _ in range(N)]"
   ]
  },
  {
   "cell_type": "code",
   "execution_count": 29,
   "metadata": {},
   "outputs": [
    {
     "name": "stdout",
     "output_type": "stream",
     "text": [
      "28.1 ms ± 881 µs per loop (mean ± std. dev. of 7 runs, 10 loops each)\n"
     ]
    }
   ],
   "source": [
    "%timeit np.random.normal(size=N)"
   ]
  },
  {
   "cell_type": "markdown",
   "metadata": {},
   "source": [
    "我们说这些都是伪随机数，是因为它们都是通过算法基于随机数生成器种子，在确定性的条件下生成的。你可以用NumPy的np.random.seed更改随机数生成种子："
   ]
  },
  {
   "cell_type": "code",
   "execution_count": 30,
   "metadata": {},
   "outputs": [],
   "source": [
    "np.random.seed(123)"
   ]
  },
  {
   "cell_type": "markdown",
   "metadata": {},
   "source": [
    "numpy.random的数据生成函数使用了全局的随机种子。要避免全局状态，你可以使用numpy.random.RandomState，创建一个与其它隔离的随机数生成器："
   ]
  },
  {
   "cell_type": "code",
   "execution_count": 31,
   "metadata": {},
   "outputs": [],
   "source": [
    "rng = np.random.RandomState(123)"
   ]
  },
  {
   "cell_type": "code",
   "execution_count": 32,
   "metadata": {},
   "outputs": [
    {
     "data": {
      "text/plain": [
       "array([-1.0856306 ,  0.99734545,  0.2829785 , -1.50629471, -0.57860025,\n",
       "        1.65143654, -2.42667924, -0.42891263,  1.26593626, -0.8667404 ])"
      ]
     },
     "execution_count": 32,
     "metadata": {},
     "output_type": "execute_result"
    }
   ],
   "source": [
    "rng.randn(10)"
   ]
  },
  {
   "cell_type": "markdown",
   "metadata": {},
   "source": [
    "## 4.7 示例：随机漫步"
   ]
  },
  {
   "cell_type": "markdown",
   "metadata": {},
   "source": [
    "我们通过模拟随机漫步来说明如何运用数组运算。先来看一个简单的随机漫步的例子：从0开始，步长1和－1出现的概率相等。\n",
    "下面是一个通过内置的random模块以纯Python的方式实现1000步的随机漫步"
   ]
  },
  {
   "cell_type": "code",
   "execution_count": 33,
   "metadata": {},
   "outputs": [],
   "source": [
    "import random\n",
    "position = 0\n",
    "walk = [position]\n",
    "steps = 1000\n",
    "for i in range(steps):\n",
    "    step = 1 if random.randint(0,1) else -1\n",
    "    position += step\n",
    "    walk.append(position)"
   ]
  },
  {
   "cell_type": "code",
   "execution_count": 34,
   "metadata": {},
   "outputs": [
    {
     "data": {
      "text/plain": [
       "[<matplotlib.lines.Line2D at 0x255ee6e3978>]"
      ]
     },
     "execution_count": 34,
     "metadata": {},
     "output_type": "execute_result"
    },
    {
     "data": {
      "image/png": "[encoded data removed]",
      "text/plain": [
       "<Figure size 432x288 with 1 Axes>"
      ]
     },
     "metadata": {},
     "output_type": "display_data"
    }
   ],
   "source": [
    "plt.plot(walk[:100])"
   ]
  },
  {
   "cell_type": "markdown",
   "metadata": {},
   "source": [
    "不难看出，这其实就是随机漫步中各步的累计和，可以用一个数组运算来实现。因此，我用np.random模块一次性随机产生1000个“掷硬币”结果（即两个数中任选一个），将其分别设置为1或－1，然后计算累计和："
   ]
  },
  {
   "cell_type": "code",
   "execution_count": 37,
   "metadata": {},
   "outputs": [
    {
     "name": "stdout",
     "output_type": "stream",
     "text": [
      "-32\n"
     ]
    },
    {
     "data": {
      "text/plain": [
       "25"
      ]
     },
     "execution_count": 37,
     "metadata": {},
     "output_type": "execute_result"
    }
   ],
   "source": [
    "nsteps = 1000\n",
    "draws = np.random.randint(0, 2, size=nsteps)\n",
    "steps = np.where(draws > 0, 1, -1)\n",
    "walk = steps.cumsum()\n",
    "print(walk.min())\n",
    "walk.max()"
   ]
  },
  {
   "cell_type": "markdown",
   "metadata": {},
   "source": [
    "现在来看一个复杂点的统计任务——首次穿越时间，即随机漫步过程中第一次到达某个特定值的时间。假设我们想要知道本次随机漫步需要多久才能距离初始0点至少10步远（任一方向均可）。np.abs(walk)>=10可以得到一个布尔型数组，它表示的是距离是否达到或超过10，而我们想要知道的是第一个10或－10的索引。可以用argmax来解决这个问题，它返回的是该布尔型数组第一个最大值的索引（True就是最大值）"
   ]
  },
  {
   "cell_type": "code",
   "execution_count": 38,
   "metadata": {},
   "outputs": [
    {
     "data": {
      "text/plain": [
       "21"
      ]
     },
     "execution_count": 38,
     "metadata": {},
     "output_type": "execute_result"
    }
   ],
   "source": [
    "(np.abs(walk) >= 10).argmax()"
   ]
  },
  {
   "cell_type": "markdown",
   "metadata": {},
   "source": [
    "注意，这里使用argmax并不是很高效，因为它无论如何都会对数组进行完全扫描。在本例中，只要发现了一个True，那我们就知道它是个最大值了。\n",
    "### 一次模拟多个随机漫步\n",
    "如果你希望模拟多个随机漫步过程（比如5000个），只需对上面的代码做一点点修改即可生成所有的随机漫步过程。只要给numpy.random的函数传入一个二元元组就可以产生一个二维数组，然后我们就可以一次性计算5000个随机漫步过程（一行一个）的累计和了："
   ]
  },
  {
   "cell_type": "code",
   "execution_count": 39,
   "metadata": {},
   "outputs": [
    {
     "data": {
      "text/plain": [
       "array([[ -1,   0,  -1, ..., -40, -39, -38],\n",
       "       [  1,   0,   1, ..., -50, -51, -50],\n",
       "       [  1,   0,  -1, ...,  18,  17,  18],\n",
       "       ...,\n",
       "       [  1,   2,   3, ...,  34,  35,  36],\n",
       "       [ -1,   0,   1, ...,  18,  17,  16],\n",
       "       [  1,   2,   3, ...,  88,  87,  88]], dtype=int32)"
      ]
     },
     "execution_count": 39,
     "metadata": {},
     "output_type": "execute_result"
    }
   ],
   "source": [
    "nwalks = 5000 \n",
    "nsteps = 1000\n",
    "draws = np.random.randint(0, 2, size=(nwalks, nsteps)) # 0 or 1\n",
    "steps = np.where(draws > 0, 1, -1)\n",
    "walks = steps.cumsum(1)\n",
    "walks"
   ]
  },
  {
   "cell_type": "markdown",
   "metadata": {},
   "source": [
    "现在，我们来计算所有随机漫步过程的最大值和最小值"
   ]
  },
  {
   "cell_type": "code",
   "execution_count": 40,
   "metadata": {},
   "outputs": [
    {
     "data": {
      "text/plain": [
       "124"
      ]
     },
     "execution_count": 40,
     "metadata": {},
     "output_type": "execute_result"
    }
   ],
   "source": [
    "walks.max()"
   ]
  },
  {
   "cell_type": "code",
   "execution_count": 41,
   "metadata": {},
   "outputs": [
    {
     "data": {
      "text/plain": [
       "-128"
      ]
     },
     "execution_count": 41,
     "metadata": {},
     "output_type": "execute_result"
    }
   ],
   "source": [
    "walks.min()"
   ]
  },
  {
   "cell_type": "markdown",
   "metadata": {},
   "source": [
    "得到这些数据之后，我们来计算30或－30的最小穿越时间。这里稍微复杂些，因为不是5000个过程都到达了30。我们可以用any方法来对此进行检查："
   ]
  },
  {
   "cell_type": "code",
   "execution_count": 42,
   "metadata": {},
   "outputs": [
    {
     "name": "stdout",
     "output_type": "stream",
     "text": [
      "[ True  True False ...  True  True  True]\n"
     ]
    },
    {
     "data": {
      "text/plain": [
       "3395"
      ]
     },
     "execution_count": 42,
     "metadata": {},
     "output_type": "execute_result"
    }
   ],
   "source": [
    "hits30 = (np.abs(walks) >= 30).any(1)\n",
    "print(hits30)\n",
    "hits30.sum() # Number that hit 30 or -30"
   ]
  },
  {
   "cell_type": "markdown",
   "metadata": {},
   "source": [
    "然后我们利用这个布尔型数组选出那些穿越了30（绝对值）的随机漫步（行），并调用argmax在轴1上获取穿越时间："
   ]
  },
  {
   "cell_type": "code",
   "execution_count": 44,
   "metadata": {},
   "outputs": [
    {
     "data": {
      "text/plain": [
       "509.18085419734905"
      ]
     },
     "execution_count": 44,
     "metadata": {},
     "output_type": "execute_result"
    }
   ],
   "source": [
    "crossing_times = (np.abs(walks[hits30]) >= 30).argmax(1)\n",
    "crossing_times.mean()"
   ]
  },
  {
   "cell_type": "markdown",
   "metadata": {},
   "source": [
    "请尝试用其他分布方式得到漫步数据。只需使用不同的随机数生成函数即可，如normal用于生成指定均值和标准差的正态分布数据："
   ]
  },
  {
   "cell_type": "code",
   "execution_count": 46,
   "metadata": {},
   "outputs": [
    {
     "data": {
      "text/plain": [
       "array([[-0.17081664, -0.11871256, -0.37546144, ...,  0.27105885,\n",
       "        -0.27962195, -0.14014586],\n",
       "       [-0.10996201, -0.26070997,  0.20881494, ...,  0.06600838,\n",
       "         0.2947594 , -0.1748383 ],\n",
       "       [ 0.27827998,  0.08778475, -0.02939505, ...,  0.01341573,\n",
       "        -0.13879233,  0.02148726],\n",
       "       ...,\n",
       "       [-0.07548029, -0.28372494,  0.19150921, ..., -0.58622695,\n",
       "        -0.10028284,  0.4615469 ],\n",
       "       [-0.03204619,  0.05788295, -0.09322444, ...,  0.38160975,\n",
       "         0.14445622,  0.07941027],\n",
       "       [-0.01971829, -0.23895606,  0.25039202, ..., -0.39654543,\n",
       "         0.36830892, -0.03489592]])"
      ]
     },
     "execution_count": 46,
     "metadata": {},
     "output_type": "execute_result"
    }
   ],
   "source": [
    "np.random.normal(loc=0, scale=0.25,size=(nwalks, nsteps))"
   ]
  },
  {
   "cell_type": "code",
   "execution_count": null,
   "metadata": {},
   "outputs": [],
   "source": []
  }
 ],
 "metadata": {
  "kernelspec": {
   "display_name": "Python 3",
   "language": "python",
   "name": "python3"
  },
  "language_info": {
   "codemirror_mode": {
    "name": "ipython",
    "version": 3
   },
   "file_extension": ".py",
   "mimetype": "text/x-python",
   "name": "python",
   "nbconvert_exporter": "python",
   "pygments_lexer": "ipython3",
   "version": "3.8.8"
  }
 },
 "nbformat": 4,
 "nbformat_minor": 2
}
