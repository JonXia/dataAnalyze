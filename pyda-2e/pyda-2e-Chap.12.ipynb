{
 "cells": [
  {
   "cell_type": "markdown",
   "metadata": {},
   "source": [
    "# pandas高级应用"
   ]
  },
  {
   "cell_type": "code",
   "execution_count": 39,
   "metadata": {
    "pycharm": {
     "is_executing": false
    }
   },
   "outputs": [],
   "source": [
    "import numpy as np\n",
    "import pandas as pd\n",
    "%matplotlib inline"
   ]
  },
  {
   "cell_type": "markdown",
   "metadata": {},
   "source": [
    "## 12.1分类数据"
   ]
  },
  {
   "cell_type": "markdown",
   "metadata": {},
   "source": [
    "### 背景和目的\n",
    "表中的一列通常会有重复的包含不同值的小集合的情况。我们已经学过了unique和value_counts，它们可以从数组提取出不同的值，并分别计算频率："
   ]
  },
  {
   "cell_type": "code",
   "execution_count": 40,
   "metadata": {
    "pycharm": {
     "is_executing": false
    }
   },
   "outputs": [
    {
     "name": "stdout",
     "text": [
      "0     apple\n1    orange\n2     apple\n3     apple\n4    orange\n5     apple\ndtype: object\n['apple' 'orange']\n"
     ],
     "output_type": "stream"
    },
    {
     "data": {
      "text/plain": "apple     4\norange    2\ndtype: int64"
     },
     "metadata": {},
     "output_type": "execute_result",
     "execution_count": 40
    }
   ],
   "source": [
    "values = pd.Series(['apple','orange','apple']*2)\n",
    "print(values)\n",
    "print(pd.unique(values))\n",
    "pd.value_counts(values)"
   ]
  },
  {
   "cell_type": "markdown",
   "metadata": {},
   "source": [
    "许多数据系统（数据仓库、统计计算或其它应用）都发展出了特定的表征重复值的方法，以进行高效的存储和计算。在数据仓库中，最好的方法是使用所谓的包含不同值的维表(Dimension Table)，将主要的参数存储为引用维表整数键："
   ]
  },
  {
   "cell_type": "code",
   "execution_count": 41,
   "metadata": {
    "pycharm": {
     "is_executing": false
    }
   },
   "outputs": [
    {
     "data": {
      "text/plain": "0     apple\n1    orange\n0     apple\n0     apple\n0     apple\n1    orange\n0     apple\n0     apple\ndtype: object"
     },
     "metadata": {},
     "output_type": "execute_result",
     "execution_count": 41
    }
   ],
   "source": [
    "values = pd.Series([0, 1, 0, 0] * 2)\n",
    "dim = pd.Series(['apple','orange'])\n",
    "# 可以使用take方法存储原始的字符串Series：\n",
    "dim.take(values)"
   ]
  },
  {
   "cell_type": "markdown",
   "metadata": {},
   "source": [
    "这种用整数表示的方法称为分类或字典编码表示法。不同值得数组称为分类、字典或数据级。本书中，我们使用分类的说法。表示分类的整数值称为分类编码或简单地称为编码。\n",
    "分类表示可以在进行分析时大大的提高性能。你也可以在保持编码不变的情况下，对分类进行转换。一些相对简单的转变例子包括：\n",
    "- 重命名分类。\n",
    "- 加入一个新的分类，不改变已经存在的分类的顺序或位置。\n",
    "\n",
    "### pandas的分类类型\n",
    "pandas有一个特殊的分类类型，用于保存使用整数分类表示法的数据。看一个之前的Series例子："
   ]
  },
  {
   "cell_type": "code",
   "execution_count": 42,
   "metadata": {
    "pycharm": {
     "is_executing": false
    }
   },
   "outputs": [
    {
     "name": "stdout",
     "text": [
      "fruit_cat列的类型：\n 0     apple\n1    orange\n2     apple\n3     apple\n4     apple\n5    orange\n6     apple\n7     apple\nName: fruit, dtype: object\n"
     ],
     "output_type": "stream"
    },
    {
     "data": {
      "text/plain": "   basket_id   fruit  count    weight\n0          0   apple     14  1.931155\n1          1  orange     12  1.966786\n2          2   apple     11  0.934129\n3          3   apple      5  0.931432\n4          4   apple     10  2.765171\n5          5  orange      9  2.669436\n6          6   apple      8  3.511530\n7          7   apple      8  3.995746",
      "text/html": "<div>\n<style scoped>\n    .dataframe tbody tr th:only-of-type {\n        vertical-align: middle;\n    }\n\n    .dataframe tbody tr th {\n        vertical-align: top;\n    }\n\n    .dataframe thead th {\n        text-align: right;\n    }\n</style>\n<table border=\"1\" class=\"dataframe\">\n  <thead>\n    <tr style=\"text-align: right;\">\n      <th></th>\n      <th>basket_id</th>\n      <th>fruit</th>\n      <th>count</th>\n      <th>weight</th>\n    </tr>\n  </thead>\n  <tbody>\n    <tr>\n      <th>0</th>\n      <td>0</td>\n      <td>apple</td>\n      <td>14</td>\n      <td>1.931155</td>\n    </tr>\n    <tr>\n      <th>1</th>\n      <td>1</td>\n      <td>orange</td>\n      <td>12</td>\n      <td>1.966786</td>\n    </tr>\n    <tr>\n      <th>2</th>\n      <td>2</td>\n      <td>apple</td>\n      <td>11</td>\n      <td>0.934129</td>\n    </tr>\n    <tr>\n      <th>3</th>\n      <td>3</td>\n      <td>apple</td>\n      <td>5</td>\n      <td>0.931432</td>\n    </tr>\n    <tr>\n      <th>4</th>\n      <td>4</td>\n      <td>apple</td>\n      <td>10</td>\n      <td>2.765171</td>\n    </tr>\n    <tr>\n      <th>5</th>\n      <td>5</td>\n      <td>orange</td>\n      <td>9</td>\n      <td>2.669436</td>\n    </tr>\n    <tr>\n      <th>6</th>\n      <td>6</td>\n      <td>apple</td>\n      <td>8</td>\n      <td>3.511530</td>\n    </tr>\n    <tr>\n      <th>7</th>\n      <td>7</td>\n      <td>apple</td>\n      <td>8</td>\n      <td>3.995746</td>\n    </tr>\n  </tbody>\n</table>\n</div>"
     },
     "metadata": {},
     "output_type": "execute_result",
     "execution_count": 42
    }
   ],
   "source": [
    "fruits = ['apple', 'orange', 'apple', 'apple'] * 2\n",
    "N = len(fruits)\n",
    "df = pd.DataFrame({'fruit':fruits,\n",
    "                 'basket_id':np.arange(N),\n",
    "                 'count':np.random.randint(3, 15, size=N),\n",
    "                 'weight':np.random.uniform(0, 4, size=N)},\n",
    "                  columns=['basket_id','fruit','count','weight'])\n",
    "print(\"fruit_cat列的类型：\\n\",df.fruit)\n",
    "df"
   ]
  },
  {
   "cell_type": "markdown",
   "metadata": {},
   "source": [
    "这里，df['fruit']是一个Python字符串对象的数组。我们可以通过调用它，将他转变为分类："
   ]
  },
  {
   "cell_type": "code",
   "execution_count": 43,
   "metadata": {
    "pycharm": {
     "is_executing": false
    }
   },
   "outputs": [
    {
     "name": "stdout",
     "text": [
      "0     apple\n1    orange\n2     apple\n3     apple\n4     apple\n5    orange\n6     apple\n7     apple\nName: fruit, dtype: category\nCategories (2, object): [apple, orange]\n\n类型: <class 'pandas.core.arrays.categorical.Categorical'>\n\n属性 Index(['apple', 'orange'], dtype='object') [0 1 0 0 0 1 0 0]\n"
     ],
     "output_type": "stream"
    }
   ],
   "source": [
    "fruit_cat = df['fruit'].astype('category')\n",
    "print(fruit_cat)\n",
    "c = fruit_cat.values\n",
    "print(\"\\n类型:\",type(c)) #fruit_cat的值部署Numpy数组，而是一个pandas.Categorical实例\n",
    "print(\"\\n属性\",c.categories,c.codes) # 分类对象有categories和codes属性"
   ]
  },
  {
   "cell_type": "markdown",
   "metadata": {},
   "source": [
    "你可将DataFrame的列通过分配转换结果，转换为分类对象："
   ]
  },
  {
   "cell_type": "code",
   "execution_count": 44,
   "metadata": {
    "pycharm": {
     "is_executing": false
    }
   },
   "outputs": [
    {
     "data": {
      "text/plain": "0     apple\n1    orange\n2     apple\n3     apple\n4     apple\n5    orange\n6     apple\n7     apple\nName: fruit, dtype: category\nCategories (2, object): [apple, orange]"
     },
     "metadata": {},
     "output_type": "execute_result",
     "execution_count": 44
    }
   ],
   "source": [
    "df['fruit'] = df['fruit'].astype('category')\n",
    "df.fruit"
   ]
  },
  {
   "cell_type": "markdown",
   "metadata": {},
   "source": [
    "也可以讲Python的数据结构转为Categorical"
   ]
  },
  {
   "cell_type": "code",
   "execution_count": 45,
   "metadata": {
    "pycharm": {
     "is_executing": false
    }
   },
   "outputs": [
    {
     "data": {
      "text/plain": "[foo, bar, baz, foo, bar]\nCategories (3, object): [bar, baz, foo]"
     },
     "metadata": {},
     "output_type": "execute_result",
     "execution_count": 45
    }
   ],
   "source": [
    "my_categories = pd.Categorical(['foo', 'bar', 'baz', 'foo', 'bar'])\n",
    "my_categories"
   ]
  },
  {
   "cell_type": "markdown",
   "metadata": {},
   "source": [
    "如果你已经从其它源获得了分类编码，你还可以使用from_codes构造器："
   ]
  },
  {
   "cell_type": "code",
   "execution_count": 46,
   "metadata": {
    "pycharm": {
     "is_executing": false
    }
   },
   "outputs": [
    {
     "data": {
      "text/plain": "[foo, bar, baz, foo, foo, bar]\nCategories (3, object): [foo, bar, baz]"
     },
     "metadata": {},
     "output_type": "execute_result",
     "execution_count": 46
    }
   ],
   "source": [
    "categories = ['foo', 'bar', 'baz']\n",
    "codes = [0, 1, 2, 0, 0, 1]\n",
    "my_cats_2 = pd.Categorical.from_codes(codes, categories)\n",
    "my_cats_2"
   ]
  },
  {
   "cell_type": "markdown",
   "metadata": {},
   "source": [
    "但是分类变换的顺序取决于输入数据的顺序，categories数组的顺序会不同。当使用from_codes或其他的构造器时，你可以指定分类一个有意义的顺序"
   ]
  },
  {
   "cell_type": "code",
   "execution_count": 47,
   "metadata": {
    "pycharm": {
     "is_executing": false
    }
   },
   "outputs": [
    {
     "data": {
      "text/plain": "[foo, bar, baz, foo, foo, bar]\nCategories (3, object): [foo < bar < baz]"
     },
     "metadata": {},
     "output_type": "execute_result",
     "execution_count": 47
    }
   ],
   "source": [
    "ordered_cat = pd.Categorical.from_codes(codes, categories,ordered=True)\n",
    "ordered_cat"
   ]
  },
  {
   "cell_type": "markdown",
   "metadata": {},
   "source": [
    "输出[foo < bar < baz]指明‘foo’位于‘bar’的前面，以此类推。\n",
    "\n",
    "无序的分类实例可以通过as_ordered排序："
   ]
  },
  {
   "cell_type": "code",
   "execution_count": 48,
   "metadata": {
    "pycharm": {
     "is_executing": false
    }
   },
   "outputs": [
    {
     "data": {
      "text/plain": "[foo, bar, baz, foo, foo, bar]\nCategories (3, object): [foo < bar < baz]"
     },
     "metadata": {},
     "output_type": "execute_result",
     "execution_count": 48
    }
   ],
   "source": [
    "my_cats_2.as_ordered()"
   ]
  },
  {
   "cell_type": "markdown",
   "metadata": {},
   "source": [
    "不仅仅是字符串，分类数组可以包括任意不可变类型。"
   ]
  },
  {
   "cell_type": "markdown",
   "metadata": {},
   "source": [
    "### 用分类进行计算\n",
    "某些pandas组件，比如groupby函数，更适合分类。还有一些函数可以使用有序标志位。\n",
    "\n",
    "来看一些随机的数值数据，使用pandas.qcut面元函数。它会返回pandas.Categorical。"
   ]
  },
  {
   "cell_type": "code",
   "execution_count": 49,
   "metadata": {
    "pycharm": {
     "is_executing": false
    }
   },
   "outputs": [
    {
     "name": "stdout",
     "text": [
      "[-0.20470766  0.47894334 -0.51943872 -0.5557303   1.96578057  1.39340583\n  0.09290788  0.28174615  0.76902257  1.24643474]\n"
     ],
     "output_type": "stream"
    },
    {
     "data": {
      "text/plain": "[(-0.557, -0.13], (0.38, 1.127], (-0.557, -0.13], (-0.557, -0.13], (1.127, 1.966], (1.127, 1.966], (-0.13, 0.38], (-0.13, 0.38], (0.38, 1.127], (1.127, 1.966]]\nCategories (4, interval[float64]): [(-0.557, -0.13] < (-0.13, 0.38] < (0.38, 1.127] < (1.127, 1.966]]"
     },
     "metadata": {},
     "output_type": "execute_result",
     "execution_count": 49
    }
   ],
   "source": [
    "np.random.seed(12345)\n",
    "draws = np.random.randn(10)\n",
    "print(draws)\n",
    "bins = pd.qcut(draws, 4)\n",
    "bins"
   ]
  },
  {
   "cell_type": "markdown",
   "metadata": {},
   "source": [
    "加上标签的面元分类不包含数据面元边界的信息，因此可以使用groupby提取一些汇总信息："
   ]
  },
  {
   "cell_type": "code",
   "execution_count": 50,
   "metadata": {
    "pycharm": {
     "is_executing": false
    }
   },
   "outputs": [
    {
     "data": {
      "text/plain": "          quartile  count       min       max\n0  (-0.557, -0.13]      3 -0.555730 -0.204708\n1    (-0.13, 0.38]      2  0.092908  0.281746\n2    (0.38, 1.127]      2  0.478943  0.769023\n3   (1.127, 1.966]      3  1.246435  1.965781",
      "text/html": "<div>\n<style scoped>\n    .dataframe tbody tr th:only-of-type {\n        vertical-align: middle;\n    }\n\n    .dataframe tbody tr th {\n        vertical-align: top;\n    }\n\n    .dataframe thead th {\n        text-align: right;\n    }\n</style>\n<table border=\"1\" class=\"dataframe\">\n  <thead>\n    <tr style=\"text-align: right;\">\n      <th></th>\n      <th>quartile</th>\n      <th>count</th>\n      <th>min</th>\n      <th>max</th>\n    </tr>\n  </thead>\n  <tbody>\n    <tr>\n      <th>0</th>\n      <td>(-0.557, -0.13]</td>\n      <td>3</td>\n      <td>-0.555730</td>\n      <td>-0.204708</td>\n    </tr>\n    <tr>\n      <th>1</th>\n      <td>(-0.13, 0.38]</td>\n      <td>2</td>\n      <td>0.092908</td>\n      <td>0.281746</td>\n    </tr>\n    <tr>\n      <th>2</th>\n      <td>(0.38, 1.127]</td>\n      <td>2</td>\n      <td>0.478943</td>\n      <td>0.769023</td>\n    </tr>\n    <tr>\n      <th>3</th>\n      <td>(1.127, 1.966]</td>\n      <td>3</td>\n      <td>1.246435</td>\n      <td>1.965781</td>\n    </tr>\n  </tbody>\n</table>\n</div>"
     },
     "metadata": {},
     "output_type": "execute_result",
     "execution_count": 50
    }
   ],
   "source": [
    "bins = pd.Series(bins, name='quartile')\n",
    "results = (pd.Series(draws)\n",
    "           .groupby(bins)\n",
    "           .agg(['count','min','max'])\n",
    "           .reset_index())\n",
    "results"
   ]
  },
  {
   "cell_type": "code",
   "execution_count": 51,
   "metadata": {
    "pycharm": {
     "is_executing": false
    }
   },
   "outputs": [
    {
     "data": {
      "text/plain": "0    (-0.557, -0.13]\n1      (-0.13, 0.38]\n2      (0.38, 1.127]\n3     (1.127, 1.966]\nName: quartile, dtype: category\nCategories (4, interval[float64]): [(-0.557, -0.13] < (-0.13, 0.38] < (0.38, 1.127] < (1.127, 1.966]]"
     },
     "metadata": {},
     "output_type": "execute_result",
     "execution_count": 51
    }
   ],
   "source": [
    "results['quartile']"
   ]
  },
  {
   "cell_type": "markdown",
   "metadata": {},
   "source": [
    "### 用分类提高性能"
   ]
  },
  {
   "cell_type": "markdown",
   "metadata": {},
   "source": [
    "如果是在一个特定数据集上做大量分析，将其转换为分类可以极大地提高效率。dataframe列的分类使用的内存通常少得多。"
   ]
  },
  {
   "cell_type": "code",
   "execution_count": 52,
   "metadata": {
    "pycharm": {
     "is_executing": false
    }
   },
   "outputs": [],
   "source": [
    "N = 10000000\n",
    "draws = pd.Series(np.random.randn(N))\n",
    "labels = pd.Series(['foo','bar','baz','qux'] * (N // 4))"
   ]
  },
  {
   "cell_type": "code",
   "execution_count": 53,
   "metadata": {
    "pycharm": {
     "is_executing": false
    }
   },
   "outputs": [],
   "source": [
    "categories = labels.astype('category') # 转换为分类"
   ]
  },
  {
   "cell_type": "code",
   "execution_count": 54,
   "metadata": {
    "pycharm": {
     "is_executing": false
    }
   },
   "outputs": [
    {
     "name": "stdout",
     "text": [
      "80000080\n10000272\n"
     ],
     "output_type": "stream"
    }
   ],
   "source": [
    "print(labels.memory_usage())\n",
    "print(categories.memory_usage())"
   ]
  },
  {
   "cell_type": "markdown",
   "metadata": {},
   "source": [
    "转换为分类不是没有代价的，但这是一次性的代价"
   ]
  },
  {
   "cell_type": "code",
   "execution_count": 55,
   "metadata": {
    "pycharm": {
     "is_executing": false
    }
   },
   "outputs": [
    {
     "name": "stdout",
     "text": [
      "Wall time: 509 ms\n"
     ],
     "output_type": "stream"
    }
   ],
   "source": [
    "%time _ = labels.astype('category')"
   ]
  },
  {
   "cell_type": "markdown",
   "metadata": {},
   "source": [
    "GroupBy使用分类操作明显更快，是因为底层的算法使用整数编码数组，而不是字符串数组。\n"
   ]
  },
  {
   "cell_type": "markdown",
   "metadata": {},
   "source": [
    "### 分类方法\n",
    "包含分类数据的Series有一些特殊的方法，类似于Series.str字符串方法。它还提供了方便的分类和编码的使用方法。看下面的Series："
   ]
  },
  {
   "cell_type": "code",
   "execution_count": 56,
   "metadata": {
    "pycharm": {
     "is_executing": false
    }
   },
   "outputs": [
    {
     "name": "stdout",
     "text": [
      "0    a\n1    b\n2    c\n3    d\n4    a\n5    b\n6    c\n7    d\ndtype: object\n"
     ],
     "output_type": "stream"
    },
    {
     "data": {
      "text/plain": "0    a\n1    b\n2    c\n3    d\n4    a\n5    b\n6    c\n7    d\ndtype: category\nCategories (4, object): [a, b, c, d]"
     },
     "metadata": {},
     "output_type": "execute_result",
     "execution_count": 56
    }
   ],
   "source": [
    "s = pd.Series(['a','b','c','d'] * 2)\n",
    "print(s)\n",
    "cat_s = s.astype('category')\n",
    "cat_s"
   ]
  },
  {
   "cell_type": "markdown",
   "metadata": {},
   "source": [
    "cat属性提供了分类方法的入口"
   ]
  },
  {
   "cell_type": "code",
   "execution_count": 57,
   "metadata": {
    "scrolled": true,
    "pycharm": {
     "is_executing": false
    }
   },
   "outputs": [
    {
     "name": "stdout",
     "text": [
      "0    0\n1    1\n2    2\n3    3\n4    0\n5    1\n6    2\n7    3\ndtype: int8 \n\nIndex(['a', 'b', 'c', 'd'], dtype='object')\n"
     ],
     "output_type": "stream"
    }
   ],
   "source": [
    "print(cat_s.cat.codes,\"\\n\")\n",
    "print(cat_s.cat.categories)"
   ]
  },
  {
   "cell_type": "markdown",
   "metadata": {},
   "source": [
    "假设我们知道这个数据的实际分类集，超出了数据中的四个值。我们可以使用set_categories方法改变它们："
   ]
  },
  {
   "cell_type": "code",
   "execution_count": 58,
   "metadata": {
    "pycharm": {
     "is_executing": false
    }
   },
   "outputs": [
    {
     "data": {
      "text/plain": "0    a\n1    b\n2    c\n3    d\n4    a\n5    b\n6    c\n7    d\ndtype: category\nCategories (5, object): [a, b, c, d, e]"
     },
     "metadata": {},
     "output_type": "execute_result",
     "execution_count": 58
    }
   ],
   "source": [
    "actual_categories = ['a','b','c','d','e']\n",
    "cat_s2 = cat_s.cat.set_categories(actual_categories)\n",
    "cat_s2"
   ]
  },
  {
   "cell_type": "markdown",
   "metadata": {},
   "source": [
    "虽然数据看起来没变，新的分类将反映在它们的操作中。例如，如果有的话，value_counts表示分类："
   ]
  },
  {
   "cell_type": "code",
   "execution_count": 59,
   "metadata": {
    "pycharm": {
     "is_executing": false
    }
   },
   "outputs": [
    {
     "name": "stdout",
     "text": [
      "d    2\nc    2\nb    2\na    2\ndtype: int64\n"
     ],
     "output_type": "stream"
    },
    {
     "data": {
      "text/plain": "d    2\nc    2\nb    2\na    2\ne    0\ndtype: int64"
     },
     "metadata": {},
     "output_type": "execute_result",
     "execution_count": 59
    }
   ],
   "source": [
    "print(cat_s.value_counts())\n",
    "cat_s2.value_counts()"
   ]
  },
  {
   "cell_type": "markdown",
   "metadata": {},
   "source": [
    "在大数据集中，分类经常作为节省内存和高性能的便捷工具。过滤完大DataFrame或Series之后，许多分类可能不会出现在数据中。我们可以使用remove_unused_categories方法删除没看到的分类："
   ]
  },
  {
   "cell_type": "code",
   "execution_count": 60,
   "metadata": {
    "pycharm": {
     "is_executing": false
    }
   },
   "outputs": [
    {
     "data": {
      "text/plain": "0    a\n1    b\n4    a\n5    b\ndtype: category\nCategories (4, object): [a, b, c, d]"
     },
     "metadata": {},
     "output_type": "execute_result",
     "execution_count": 60
    }
   ],
   "source": [
    "cat_s3 = cat_s[cat_s.isin(['a','b'])]\n",
    "cat_s3"
   ]
  },
  {
   "cell_type": "code",
   "execution_count": 61,
   "metadata": {
    "scrolled": true,
    "pycharm": {
     "is_executing": false
    }
   },
   "outputs": [
    {
     "data": {
      "text/plain": "0    a\n1    b\n2    c\n3    d\n4    a\n5    b\n6    c\n7    d\ndtype: category\nCategories (4, object): [a, b, c, d]"
     },
     "metadata": {},
     "output_type": "execute_result",
     "execution_count": 61
    }
   ],
   "source": [
    "cat_s.cat.remove_unused_categories()"
   ]
  },
  {
   "cell_type": "markdown",
   "metadata": {},
   "source": [
    "Series的分类方法\n",
    "![](https://i.loli.net/2019/08/21/qomk62BYIOdHZvp.jpg)"
   ]
  },
  {
   "cell_type": "markdown",
   "metadata": {},
   "source": [
    "### 为建模创建虚拟变量\n",
    "当你使用统计或机器学习工具时，通常会将分类数据转换为虚拟变量，也称为one-hot编码。这包括创建一个不同类别的列的DataFrame；这些列包含给定分类的1s，其它为0。"
   ]
  },
  {
   "cell_type": "code",
   "execution_count": 62,
   "metadata": {
    "pycharm": {
     "is_executing": false
    }
   },
   "outputs": [
    {
     "data": {
      "text/plain": "0    a\n1    b\n2    c\n3    d\n4    a\n5    b\n6    c\n7    d\ndtype: category\nCategories (4, object): [a, b, c, d]"
     },
     "metadata": {},
     "output_type": "execute_result",
     "execution_count": 62
    }
   ],
   "source": [
    "cat_s = pd.Series(['a','b','c','d'] * 2,dtype='category')\n",
    "cat_s"
   ]
  },
  {
   "cell_type": "code",
   "execution_count": 63,
   "metadata": {
    "pycharm": {
     "is_executing": false
    }
   },
   "outputs": [
    {
     "data": {
      "text/plain": "   a  b  c  d\n0  1  0  0  0\n1  0  1  0  0\n2  0  0  1  0\n3  0  0  0  1\n4  1  0  0  0\n5  0  1  0  0\n6  0  0  1  0\n7  0  0  0  1",
      "text/html": "<div>\n<style scoped>\n    .dataframe tbody tr th:only-of-type {\n        vertical-align: middle;\n    }\n\n    .dataframe tbody tr th {\n        vertical-align: top;\n    }\n\n    .dataframe thead th {\n        text-align: right;\n    }\n</style>\n<table border=\"1\" class=\"dataframe\">\n  <thead>\n    <tr style=\"text-align: right;\">\n      <th></th>\n      <th>a</th>\n      <th>b</th>\n      <th>c</th>\n      <th>d</th>\n    </tr>\n  </thead>\n  <tbody>\n    <tr>\n      <th>0</th>\n      <td>1</td>\n      <td>0</td>\n      <td>0</td>\n      <td>0</td>\n    </tr>\n    <tr>\n      <th>1</th>\n      <td>0</td>\n      <td>1</td>\n      <td>0</td>\n      <td>0</td>\n    </tr>\n    <tr>\n      <th>2</th>\n      <td>0</td>\n      <td>0</td>\n      <td>1</td>\n      <td>0</td>\n    </tr>\n    <tr>\n      <th>3</th>\n      <td>0</td>\n      <td>0</td>\n      <td>0</td>\n      <td>1</td>\n    </tr>\n    <tr>\n      <th>4</th>\n      <td>1</td>\n      <td>0</td>\n      <td>0</td>\n      <td>0</td>\n    </tr>\n    <tr>\n      <th>5</th>\n      <td>0</td>\n      <td>1</td>\n      <td>0</td>\n      <td>0</td>\n    </tr>\n    <tr>\n      <th>6</th>\n      <td>0</td>\n      <td>0</td>\n      <td>1</td>\n      <td>0</td>\n    </tr>\n    <tr>\n      <th>7</th>\n      <td>0</td>\n      <td>0</td>\n      <td>0</td>\n      <td>1</td>\n    </tr>\n  </tbody>\n</table>\n</div>"
     },
     "metadata": {},
     "output_type": "execute_result",
     "execution_count": 63
    }
   ],
   "source": [
    "pd.get_dummies(cat_s) # 转换这个分类数据为包含虚拟变量的DataFrame"
   ]
  },
  {
   "cell_type": "markdown",
   "metadata": {},
   "source": [
    "## 12.2 GroupBy高级应用"
   ]
  },
  {
   "cell_type": "markdown",
   "metadata": {},
   "source": [
    "### 分组转换和“解封”GroupBy\n",
    "在第10章的分组操作中学习了可以使用apply方法，进行转换。还有另一个transform方法，它与apply很像，但是对使用的函数有一定限制：\n",
    "- 它可以产生向分组形状广播标量值\n",
    "- 它可以产生一个和输入形状相同的对象\n",
    "- 它不能修改输入"
   ]
  },
  {
   "cell_type": "code",
   "execution_count": 64,
   "metadata": {
    "scrolled": true,
    "pycharm": {
     "is_executing": false
    }
   },
   "outputs": [
    {
     "data": {
      "text/plain": "   key  value\n0    a    0.0\n1    b    1.0\n2    c    2.0\n3    a    3.0\n4    b    4.0\n5    c    5.0\n6    a    6.0\n7    b    7.0\n8    c    8.0\n9    a    9.0\n10   b   10.0\n11   c   11.0",
      "text/html": "<div>\n<style scoped>\n    .dataframe tbody tr th:only-of-type {\n        vertical-align: middle;\n    }\n\n    .dataframe tbody tr th {\n        vertical-align: top;\n    }\n\n    .dataframe thead th {\n        text-align: right;\n    }\n</style>\n<table border=\"1\" class=\"dataframe\">\n  <thead>\n    <tr style=\"text-align: right;\">\n      <th></th>\n      <th>key</th>\n      <th>value</th>\n    </tr>\n  </thead>\n  <tbody>\n    <tr>\n      <th>0</th>\n      <td>a</td>\n      <td>0.0</td>\n    </tr>\n    <tr>\n      <th>1</th>\n      <td>b</td>\n      <td>1.0</td>\n    </tr>\n    <tr>\n      <th>2</th>\n      <td>c</td>\n      <td>2.0</td>\n    </tr>\n    <tr>\n      <th>3</th>\n      <td>a</td>\n      <td>3.0</td>\n    </tr>\n    <tr>\n      <th>4</th>\n      <td>b</td>\n      <td>4.0</td>\n    </tr>\n    <tr>\n      <th>5</th>\n      <td>c</td>\n      <td>5.0</td>\n    </tr>\n    <tr>\n      <th>6</th>\n      <td>a</td>\n      <td>6.0</td>\n    </tr>\n    <tr>\n      <th>7</th>\n      <td>b</td>\n      <td>7.0</td>\n    </tr>\n    <tr>\n      <th>8</th>\n      <td>c</td>\n      <td>8.0</td>\n    </tr>\n    <tr>\n      <th>9</th>\n      <td>a</td>\n      <td>9.0</td>\n    </tr>\n    <tr>\n      <th>10</th>\n      <td>b</td>\n      <td>10.0</td>\n    </tr>\n    <tr>\n      <th>11</th>\n      <td>c</td>\n      <td>11.0</td>\n    </tr>\n  </tbody>\n</table>\n</div>"
     },
     "metadata": {},
     "output_type": "execute_result",
     "execution_count": 64
    }
   ],
   "source": [
    "df = pd.DataFrame({'key':['a','b','c'] * 4,\n",
    "                   'value':np.arange(12.)})\n",
    "df"
   ]
  },
  {
   "cell_type": "markdown",
   "metadata": {},
   "source": [
    "按key分组"
   ]
  },
  {
   "cell_type": "code",
   "execution_count": 65,
   "metadata": {
    "pycharm": {
     "is_executing": false
    }
   },
   "outputs": [
    {
     "data": {
      "text/plain": "key\na    0.0\nb    1.0\nc    2.0\nName: value, dtype: float64"
     },
     "metadata": {},
     "output_type": "execute_result",
     "execution_count": 65
    }
   ],
   "source": [
    "g = df.groupby('key').value\n",
    "g.min()"
   ]
  },
  {
   "cell_type": "markdown",
   "metadata": {},
   "source": [
    "假设我们想产生一个和df['value']形状相同的Series，但值替换为按键分组的平均值。"
   ]
  },
  {
   "cell_type": "code",
   "execution_count": 66,
   "metadata": {
    "pycharm": {
     "is_executing": false
    }
   },
   "outputs": [
    {
     "data": {
      "text/plain": "0     4.5\n1     5.5\n2     6.5\n3     4.5\n4     5.5\n5     6.5\n6     4.5\n7     5.5\n8     6.5\n9     4.5\n10    5.5\n11    6.5\nName: value, dtype: float64"
     },
     "metadata": {},
     "output_type": "execute_result",
     "execution_count": 66
    }
   ],
   "source": [
    "g.transform(lambda x: x.mean())"
   ]
  },
  {
   "cell_type": "markdown",
   "metadata": {},
   "source": [
    "与apply类似，transform的函数会返回Series，但是结果必须与输入大小相同。举个例子，我们可以用lambda函数将每个分组乘以2："
   ]
  },
  {
   "cell_type": "code",
   "execution_count": 67,
   "metadata": {
    "pycharm": {
     "is_executing": false
    }
   },
   "outputs": [
    {
     "data": {
      "text/plain": "0      0.0\n1      2.0\n2      4.0\n3      6.0\n4      8.0\n5     10.0\n6     12.0\n7     14.0\n8     16.0\n9     18.0\n10    20.0\n11    22.0\nName: value, dtype: float64"
     },
     "metadata": {},
     "output_type": "execute_result",
     "execution_count": 67
    }
   ],
   "source": [
    "g.transform(lambda x: x*2)"
   ]
  },
  {
   "cell_type": "markdown",
   "metadata": {},
   "source": [
    "再举一个复杂的例子，我们可以计算每个分组的降序排名："
   ]
  },
  {
   "cell_type": "code",
   "execution_count": 68,
   "metadata": {
    "pycharm": {
     "is_executing": false
    }
   },
   "outputs": [
    {
     "data": {
      "text/plain": "0     4.0\n1     4.0\n2     4.0\n3     3.0\n4     3.0\n5     3.0\n6     2.0\n7     2.0\n8     2.0\n9     1.0\n10    1.0\n11    1.0\nName: value, dtype: float64"
     },
     "metadata": {},
     "output_type": "execute_result",
     "execution_count": 68
    }
   ],
   "source": [
    "g.transform(lambda x: x.rank(ascending=False))"
   ]
  },
  {
   "cell_type": "markdown",
   "metadata": {},
   "source": [
    "看一个由简单句和构造的分组转换函数："
   ]
  },
  {
   "cell_type": "code",
   "execution_count": 69,
   "metadata": {
    "pycharm": {
     "is_executing": false
    }
   },
   "outputs": [],
   "source": [
    "def normalize(x):\n",
    "    return (x - x.mean()) / x.std()"
   ]
  },
  {
   "cell_type": "markdown",
   "metadata": {},
   "source": [
    "我们用transform或apply可以获得等价的结果："
   ]
  },
  {
   "cell_type": "code",
   "execution_count": 70,
   "metadata": {
    "pycharm": {
     "is_executing": false
    }
   },
   "outputs": [
    {
     "name": "stdout",
     "text": [
      "0    -1.161895\n1    -1.161895\n2    -1.161895\n3    -0.387298\n4    -0.387298\n5    -0.387298\n6     0.387298\n7     0.387298\n8     0.387298\n9     1.161895\n10    1.161895\n11    1.161895\nName: value, dtype: float64\n"
     ],
     "output_type": "stream"
    },
    {
     "data": {
      "text/plain": "0    -1.161895\n1    -1.161895\n2    -1.161895\n3    -0.387298\n4    -0.387298\n5    -0.387298\n6     0.387298\n7     0.387298\n8     0.387298\n9     1.161895\n10    1.161895\n11    1.161895\nName: value, dtype: float64"
     },
     "metadata": {},
     "output_type": "execute_result",
     "execution_count": 70
    }
   ],
   "source": [
    "print(g.transform(normalize))\n",
    "g.apply(normalize)"
   ]
  },
  {
   "cell_type": "markdown",
   "metadata": {},
   "source": [
    "内置的聚合函数，比如mean和sum，通常比apply函数快，也比transform快。这允许我们进行一个所谓的解封(unwrapped)分组操作："
   ]
  },
  {
   "cell_type": "code",
   "execution_count": 71,
   "metadata": {
    "pycharm": {
     "is_executing": false
    }
   },
   "outputs": [
    {
     "name": "stdout",
     "text": [
      "0     4.5\n1     5.5\n2     6.5\n3     4.5\n4     5.5\n5     6.5\n6     4.5\n7     5.5\n8     6.5\n9     4.5\n10    5.5\n11    6.5\nName: value, dtype: float64\n"
     ],
     "output_type": "stream"
    },
    {
     "data": {
      "text/plain": "0    -1.161895\n1    -1.161895\n2    -1.161895\n3    -0.387298\n4    -0.387298\n5    -0.387298\n6     0.387298\n7     0.387298\n8     0.387298\n9     1.161895\n10    1.161895\n11    1.161895\nName: value, dtype: float64"
     },
     "metadata": {},
     "output_type": "execute_result",
     "execution_count": 71
    }
   ],
   "source": [
    "print(g.transform('mean'))\n",
    "normalized = (df['value']-g.transform('mean')) / g.transform('std')\n",
    "normalized"
   ]
  },
  {
   "cell_type": "markdown",
   "metadata": {},
   "source": [
    "解封分组操作可能包括多个分组聚合，但是矢量化操作还是会带来收益。\n"
   ]
  },
  {
   "cell_type": "markdown",
   "metadata": {},
   "source": [
    "### 分组的时间重采样\n",
    "对于时间序列数据，resample方法从语义上是一个基于内在时间的分组操作。下面是一个示例表："
   ]
  },
  {
   "cell_type": "code",
   "execution_count": 72,
   "metadata": {
    "pycharm": {
     "is_executing": false
    }
   },
   "outputs": [
    {
     "data": {
      "text/plain": "                  time  value\n0  2019-05-20 00:00:00      0\n1  2019-05-20 00:01:00      1\n2  2019-05-20 00:02:00      2\n3  2019-05-20 00:03:00      3\n4  2019-05-20 00:04:00      4\n5  2019-05-20 00:05:00      5\n6  2019-05-20 00:06:00      6\n7  2019-05-20 00:07:00      7\n8  2019-05-20 00:08:00      8\n9  2019-05-20 00:09:00      9\n10 2019-05-20 00:10:00     10\n11 2019-05-20 00:11:00     11\n12 2019-05-20 00:12:00     12\n13 2019-05-20 00:13:00     13\n14 2019-05-20 00:14:00     14",
      "text/html": "<div>\n<style scoped>\n    .dataframe tbody tr th:only-of-type {\n        vertical-align: middle;\n    }\n\n    .dataframe tbody tr th {\n        vertical-align: top;\n    }\n\n    .dataframe thead th {\n        text-align: right;\n    }\n</style>\n<table border=\"1\" class=\"dataframe\">\n  <thead>\n    <tr style=\"text-align: right;\">\n      <th></th>\n      <th>time</th>\n      <th>value</th>\n    </tr>\n  </thead>\n  <tbody>\n    <tr>\n      <th>0</th>\n      <td>2019-05-20 00:00:00</td>\n      <td>0</td>\n    </tr>\n    <tr>\n      <th>1</th>\n      <td>2019-05-20 00:01:00</td>\n      <td>1</td>\n    </tr>\n    <tr>\n      <th>2</th>\n      <td>2019-05-20 00:02:00</td>\n      <td>2</td>\n    </tr>\n    <tr>\n      <th>3</th>\n      <td>2019-05-20 00:03:00</td>\n      <td>3</td>\n    </tr>\n    <tr>\n      <th>4</th>\n      <td>2019-05-20 00:04:00</td>\n      <td>4</td>\n    </tr>\n    <tr>\n      <th>5</th>\n      <td>2019-05-20 00:05:00</td>\n      <td>5</td>\n    </tr>\n    <tr>\n      <th>6</th>\n      <td>2019-05-20 00:06:00</td>\n      <td>6</td>\n    </tr>\n    <tr>\n      <th>7</th>\n      <td>2019-05-20 00:07:00</td>\n      <td>7</td>\n    </tr>\n    <tr>\n      <th>8</th>\n      <td>2019-05-20 00:08:00</td>\n      <td>8</td>\n    </tr>\n    <tr>\n      <th>9</th>\n      <td>2019-05-20 00:09:00</td>\n      <td>9</td>\n    </tr>\n    <tr>\n      <th>10</th>\n      <td>2019-05-20 00:10:00</td>\n      <td>10</td>\n    </tr>\n    <tr>\n      <th>11</th>\n      <td>2019-05-20 00:11:00</td>\n      <td>11</td>\n    </tr>\n    <tr>\n      <th>12</th>\n      <td>2019-05-20 00:12:00</td>\n      <td>12</td>\n    </tr>\n    <tr>\n      <th>13</th>\n      <td>2019-05-20 00:13:00</td>\n      <td>13</td>\n    </tr>\n    <tr>\n      <th>14</th>\n      <td>2019-05-20 00:14:00</td>\n      <td>14</td>\n    </tr>\n  </tbody>\n</table>\n</div>"
     },
     "metadata": {},
     "output_type": "execute_result",
     "execution_count": 72
    }
   ],
   "source": [
    "N = 15\n",
    "times = pd.date_range('2019-05-20 00:00', freq='1min', periods=N)\n",
    "df = pd.DataFrame({'time' : times,\n",
    "                   'value': np.arange(N)})\n",
    "df"
   ]
  },
  {
   "cell_type": "markdown",
   "metadata": {},
   "source": [
    "这里我们可以用time作为索引，然后重采样："
   ]
  },
  {
   "cell_type": "code",
   "execution_count": 73,
   "metadata": {
    "pycharm": {
     "is_executing": false
    }
   },
   "outputs": [
    {
     "data": {
      "text/plain": "                     value\ntime                      \n2019-05-20 00:00:00      5\n2019-05-20 00:05:00      5\n2019-05-20 00:10:00      5",
      "text/html": "<div>\n<style scoped>\n    .dataframe tbody tr th:only-of-type {\n        vertical-align: middle;\n    }\n\n    .dataframe tbody tr th {\n        vertical-align: top;\n    }\n\n    .dataframe thead th {\n        text-align: right;\n    }\n</style>\n<table border=\"1\" class=\"dataframe\">\n  <thead>\n    <tr style=\"text-align: right;\">\n      <th></th>\n      <th>value</th>\n    </tr>\n    <tr>\n      <th>time</th>\n      <th></th>\n    </tr>\n  </thead>\n  <tbody>\n    <tr>\n      <th>2019-05-20 00:00:00</th>\n      <td>5</td>\n    </tr>\n    <tr>\n      <th>2019-05-20 00:05:00</th>\n      <td>5</td>\n    </tr>\n    <tr>\n      <th>2019-05-20 00:10:00</th>\n      <td>5</td>\n    </tr>\n  </tbody>\n</table>\n</div>"
     },
     "metadata": {},
     "output_type": "execute_result",
     "execution_count": 73
    }
   ],
   "source": [
    "df.set_index('time').resample('5min').count()"
   ]
  },
  {
   "cell_type": "markdown",
   "metadata": {},
   "source": [
    "假设DataFrame包含多个时间序列，用一个额外的分组键的列进行标记："
   ]
  },
  {
   "cell_type": "code",
   "execution_count": 74,
   "metadata": {
    "pycharm": {
     "is_executing": false
    }
   },
   "outputs": [
    {
     "data": {
      "text/plain": "                 time key  value\n0 2019-05-20 00:00:00   a    0.0\n1 2019-05-20 00:00:00   b    1.0\n2 2019-05-20 00:00:00   c    2.0\n3 2019-05-20 00:01:00   a    3.0\n4 2019-05-20 00:01:00   b    4.0\n5 2019-05-20 00:01:00   c    5.0\n6 2019-05-20 00:02:00   a    6.0",
      "text/html": "<div>\n<style scoped>\n    .dataframe tbody tr th:only-of-type {\n        vertical-align: middle;\n    }\n\n    .dataframe tbody tr th {\n        vertical-align: top;\n    }\n\n    .dataframe thead th {\n        text-align: right;\n    }\n</style>\n<table border=\"1\" class=\"dataframe\">\n  <thead>\n    <tr style=\"text-align: right;\">\n      <th></th>\n      <th>time</th>\n      <th>key</th>\n      <th>value</th>\n    </tr>\n  </thead>\n  <tbody>\n    <tr>\n      <th>0</th>\n      <td>2019-05-20 00:00:00</td>\n      <td>a</td>\n      <td>0.0</td>\n    </tr>\n    <tr>\n      <th>1</th>\n      <td>2019-05-20 00:00:00</td>\n      <td>b</td>\n      <td>1.0</td>\n    </tr>\n    <tr>\n      <th>2</th>\n      <td>2019-05-20 00:00:00</td>\n      <td>c</td>\n      <td>2.0</td>\n    </tr>\n    <tr>\n      <th>3</th>\n      <td>2019-05-20 00:01:00</td>\n      <td>a</td>\n      <td>3.0</td>\n    </tr>\n    <tr>\n      <th>4</th>\n      <td>2019-05-20 00:01:00</td>\n      <td>b</td>\n      <td>4.0</td>\n    </tr>\n    <tr>\n      <th>5</th>\n      <td>2019-05-20 00:01:00</td>\n      <td>c</td>\n      <td>5.0</td>\n    </tr>\n    <tr>\n      <th>6</th>\n      <td>2019-05-20 00:02:00</td>\n      <td>a</td>\n      <td>6.0</td>\n    </tr>\n  </tbody>\n</table>\n</div>"
     },
     "metadata": {},
     "output_type": "execute_result",
     "execution_count": 74
    }
   ],
   "source": [
    "df2 = pd.DataFrame({'time':times.repeat(3),\n",
    "                    'key':np.tile(['a','b','c'], N),\n",
    "                    'value':np.arange(N * 3.)})\n",
    "df2[:7]"
   ]
  },
  {
   "cell_type": "markdown",
   "metadata": {},
   "source": [
    "要对每个key值进行重新采样，我们引入pandas.TimeGrouper对象："
   ]
  },
  {
   "cell_type": "code",
   "execution_count": 75,
   "metadata": {
    "pycharm": {
     "is_executing": false
    }
   },
   "outputs": [
    {
     "name": "stderr",
     "text": [
      "c:\\users\\microwu\\appdata\\local\\programs\\python\\python36\\lib\\site-packages\\ipykernel_launcher.py:2: FutureWarning: pd.TimeGrouper is deprecated and will be removed; Please use pd.Grouper(freq=...)\n  \n"
     ],
     "output_type": "stream"
    }
   ],
   "source": [
    "time_key = pd.TimeGrouper('5min')"
   ]
  },
  {
   "cell_type": "markdown",
   "metadata": {},
   "source": [
    "设定时间索引，用key和time_key分组，然后聚合："
   ]
  },
  {
   "cell_type": "code",
   "execution_count": 76,
   "metadata": {
    "pycharm": {
     "is_executing": false
    }
   },
   "outputs": [
    {
     "data": {
      "text/plain": "                         value\nkey time                      \na   2019-05-20 00:00:00   30.0\n    2019-05-20 00:05:00  105.0\n    2019-05-20 00:10:00  180.0\nb   2019-05-20 00:00:00   35.0\n    2019-05-20 00:05:00  110.0\n    2019-05-20 00:10:00  185.0\nc   2019-05-20 00:00:00   40.0\n    2019-05-20 00:05:00  115.0\n    2019-05-20 00:10:00  190.0",
      "text/html": "<div>\n<style scoped>\n    .dataframe tbody tr th:only-of-type {\n        vertical-align: middle;\n    }\n\n    .dataframe tbody tr th {\n        vertical-align: top;\n    }\n\n    .dataframe thead th {\n        text-align: right;\n    }\n</style>\n<table border=\"1\" class=\"dataframe\">\n  <thead>\n    <tr style=\"text-align: right;\">\n      <th></th>\n      <th></th>\n      <th>value</th>\n    </tr>\n    <tr>\n      <th>key</th>\n      <th>time</th>\n      <th></th>\n    </tr>\n  </thead>\n  <tbody>\n    <tr>\n      <th rowspan=\"3\" valign=\"top\">a</th>\n      <th>2019-05-20 00:00:00</th>\n      <td>30.0</td>\n    </tr>\n    <tr>\n      <th>2019-05-20 00:05:00</th>\n      <td>105.0</td>\n    </tr>\n    <tr>\n      <th>2019-05-20 00:10:00</th>\n      <td>180.0</td>\n    </tr>\n    <tr>\n      <th rowspan=\"3\" valign=\"top\">b</th>\n      <th>2019-05-20 00:00:00</th>\n      <td>35.0</td>\n    </tr>\n    <tr>\n      <th>2019-05-20 00:05:00</th>\n      <td>110.0</td>\n    </tr>\n    <tr>\n      <th>2019-05-20 00:10:00</th>\n      <td>185.0</td>\n    </tr>\n    <tr>\n      <th rowspan=\"3\" valign=\"top\">c</th>\n      <th>2019-05-20 00:00:00</th>\n      <td>40.0</td>\n    </tr>\n    <tr>\n      <th>2019-05-20 00:05:00</th>\n      <td>115.0</td>\n    </tr>\n    <tr>\n      <th>2019-05-20 00:10:00</th>\n      <td>190.0</td>\n    </tr>\n  </tbody>\n</table>\n</div>"
     },
     "metadata": {},
     "output_type": "execute_result",
     "execution_count": 76
    }
   ],
   "source": [
    "resampled = (df2.set_index('time')\n",
    "            .groupby(['key', time_key])\n",
    "             .sum())\n",
    "resampled"
   ]
  },
  {
   "cell_type": "code",
   "execution_count": 77,
   "metadata": {
    "pycharm": {
     "is_executing": false
    }
   },
   "outputs": [
    {
     "data": {
      "text/plain": "  key                time  value\n0   a 2019-05-20 00:00:00   30.0\n1   a 2019-05-20 00:05:00  105.0\n2   a 2019-05-20 00:10:00  180.0\n3   b 2019-05-20 00:00:00   35.0\n4   b 2019-05-20 00:05:00  110.0\n5   b 2019-05-20 00:10:00  185.0\n6   c 2019-05-20 00:00:00   40.0\n7   c 2019-05-20 00:05:00  115.0\n8   c 2019-05-20 00:10:00  190.0",
      "text/html": "<div>\n<style scoped>\n    .dataframe tbody tr th:only-of-type {\n        vertical-align: middle;\n    }\n\n    .dataframe tbody tr th {\n        vertical-align: top;\n    }\n\n    .dataframe thead th {\n        text-align: right;\n    }\n</style>\n<table border=\"1\" class=\"dataframe\">\n  <thead>\n    <tr style=\"text-align: right;\">\n      <th></th>\n      <th>key</th>\n      <th>time</th>\n      <th>value</th>\n    </tr>\n  </thead>\n  <tbody>\n    <tr>\n      <th>0</th>\n      <td>a</td>\n      <td>2019-05-20 00:00:00</td>\n      <td>30.0</td>\n    </tr>\n    <tr>\n      <th>1</th>\n      <td>a</td>\n      <td>2019-05-20 00:05:00</td>\n      <td>105.0</td>\n    </tr>\n    <tr>\n      <th>2</th>\n      <td>a</td>\n      <td>2019-05-20 00:10:00</td>\n      <td>180.0</td>\n    </tr>\n    <tr>\n      <th>3</th>\n      <td>b</td>\n      <td>2019-05-20 00:00:00</td>\n      <td>35.0</td>\n    </tr>\n    <tr>\n      <th>4</th>\n      <td>b</td>\n      <td>2019-05-20 00:05:00</td>\n      <td>110.0</td>\n    </tr>\n    <tr>\n      <th>5</th>\n      <td>b</td>\n      <td>2019-05-20 00:10:00</td>\n      <td>185.0</td>\n    </tr>\n    <tr>\n      <th>6</th>\n      <td>c</td>\n      <td>2019-05-20 00:00:00</td>\n      <td>40.0</td>\n    </tr>\n    <tr>\n      <th>7</th>\n      <td>c</td>\n      <td>2019-05-20 00:05:00</td>\n      <td>115.0</td>\n    </tr>\n    <tr>\n      <th>8</th>\n      <td>c</td>\n      <td>2019-05-20 00:10:00</td>\n      <td>190.0</td>\n    </tr>\n  </tbody>\n</table>\n</div>"
     },
     "metadata": {},
     "output_type": "execute_result",
     "execution_count": 77
    }
   ],
   "source": [
    "resampled.reset_index()"
   ]
  },
  {
   "cell_type": "markdown",
   "metadata": {
    "pycharm": {
     "name": "#%% md\n"
    }
   },
   "source": [
    "使用TimeGrouper的限制是时间必须是Series或DataFrame索引。\n",
    "\n"
   ]
  },
  {
   "cell_type": "markdown",
   "source": [],
   "metadata": {
    "collapsed": false,
    "pycharm": {
     "name": "#%% md\n"
    }
   }
  }
 ],
 "metadata": {
  "kernelspec": {
   "display_name": "Python 3",
   "language": "python",
   "name": "python3"
  },
  "language_info": {
   "codemirror_mode": {
    "name": "ipython",
    "version": 3
   },
   "file_extension": ".py",
   "mimetype": "text/x-python",
   "name": "python",
   "nbconvert_exporter": "python",
   "pygments_lexer": "ipython3",
   "version": "3.6.5"
  },
  "pycharm": {
   "stem_cell": {
    "cell_type": "raw",
    "source": [],
    "metadata": {
     "collapsed": false
    }
   }
  }
 },
 "nbformat": 4,
 "nbformat_minor": 2
}