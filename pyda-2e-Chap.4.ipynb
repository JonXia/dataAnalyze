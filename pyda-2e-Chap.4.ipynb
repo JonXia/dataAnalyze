{
 "cells": [
  {
   "cell_type": "code",
   "execution_count": 13,
   "metadata": {},
   "outputs": [
    {
     "data": {
      "text/plain": [
       "array([1, 2, 3])"
      ]
     },
     "execution_count": 13,
     "metadata": {},
     "output_type": "execute_result"
    }
   ],
   "source": [
    "import numpy as np\n",
    "data1 = np.array([1,2,3])\n",
    "data1"
   ]
  },
  {
   "cell_type": "code",
   "execution_count": 14,
   "metadata": {},
   "outputs": [
    {
     "data": {
      "text/plain": [
       "dtype('int32')"
      ]
     },
     "execution_count": 14,
     "metadata": {},
     "output_type": "execute_result"
    }
   ],
   "source": [
    "data1.shape\n",
    "data1.dtype"
   ]
  },
  {
   "cell_type": "code",
   "execution_count": null,
   "metadata": {},
   "outputs": [],
   "source": []
  },
  {
   "cell_type": "markdown",
   "metadata": {},
   "source": [
    "## 作业"
   ]
  },
  {
   "cell_type": "markdown",
   "metadata": {},
   "source": [
    "[链接](https://www.kesci.com/home/project/59f29f67c5f3f5119527a2cc)"
   ]
  },
  {
   "cell_type": "code",
   "execution_count": 4,
   "metadata": {},
   "outputs": [],
   "source": [
    "# 1\n",
    "import numpy as np"
   ]
  },
  {
   "cell_type": "code",
   "execution_count": 24,
   "metadata": {},
   "outputs": [
    {
     "data": {
      "text/plain": [
       "<function numpy.__config__.show()>"
      ]
     },
     "execution_count": 24,
     "metadata": {},
     "output_type": "execute_result"
    }
   ],
   "source": [
    "# 2 打印numpy的版本和配置说明\n",
    "# np.__version__\n",
    "# np.__config__\n",
    "np.show_config "
   ]
  },
  {
   "cell_type": "code",
   "execution_count": 31,
   "metadata": {},
   "outputs": [
    {
     "name": "stdout",
     "output_type": "stream",
     "text": [
      "[0. 0. 0. 0. 0. 0. 0. 0. 0. 0.]\n"
     ]
    }
   ],
   "source": [
    "# 3.创建一个长度为10的空向量\n",
    "vector3 = np.zeros(10)\n",
    "print (vector3)"
   ]
  },
  {
   "cell_type": "code",
   "execution_count": 32,
   "metadata": {},
   "outputs": [],
   "source": [
    "# 4.real.如何找到一个数组的内存大小"
   ]
  },
  {
   "cell_type": "code",
   "execution_count": null,
   "metadata": {},
   "outputs": [],
   "source": []
  },
  {
   "cell_type": "markdown",
   "metadata": {},
   "source": [
    "# Note"
   ]
  },
  {
   "cell_type": "markdown",
   "metadata": {},
   "source": [
    "## 4.1Numpy-ndarray"
   ]
  },
  {
   "cell_type": "markdown",
   "metadata": {},
   "source": [
    "### Creating ndarrays"
   ]
  },
  {
   "cell_type": "code",
   "execution_count": null,
   "metadata": {},
   "outputs": [],
   "source": [
    "# 创建ndarray，n-dimension array\n",
    "arr1 = np.array([[5,6,7,8,9],[5.0,5.1,5.2,5.3,5.3]])\n",
    "print(arr1)\n",
    "# array的维度，一个ndarray必有一个shape（一个表示各维度大小的元组）和一个dtype（一个用于说明数组数据类型的对象）\n",
    "print( \"dim is %s, shape is %s, dtype is %s \" %(arr1.ndim, arr1.shape, arr1.dtype))\n",
    "# 当你在本书中看到“数组”、“NumPy数组”、\"ndarray\"时，基本上都指的是同一样东西，即ndarray对象。\n",
    "\n",
    "# 其他创建ndarrays方法，np.zeros，np.ones，np.empty(不安全，有时会返回未初始化的垃圾值)\n",
    "arr_zeros = np.zeros((3,3,2)) # 3,3,2 3个3行2列的array\n",
    "np.zeros(1, dtype=np.int8)\n",
    "# 创建Array的方法如下图"
   ]
  },
  {
   "cell_type": "markdown",
   "metadata": {},
   "source": [
    "![](https://i.loli.net/2019/08/06/F5uJa1GP6Ux8C7m.jpg)"
   ]
  },
  {
   "cell_type": "markdown",
   "metadata": {},
   "source": [
    "![](https://i.loli.net/2019/08/06/Nn18S6v9ZlcEQsa.jpg)"
   ]
  },
  {
   "cell_type": "markdown",
   "metadata": {},
   "source": [
    "### Data Types for ndarrays"
   ]
  },
  {
   "cell_type": "markdown",
   "metadata": {},
   "source": [
    "![](https://i.loli.net/2019/08/06/b2K5AulTRWUz3qi.jpg)\n",
    "![](https://i.loli.net/2019/08/06/mcIDWaHYyKfbSlZ.jpg)"
   ]
  },
  {
   "cell_type": "code",
   "execution_count": 100,
   "metadata": {},
   "outputs": [
    {
     "name": "stdout",
     "output_type": "stream",
     "text": [
      "float64 [1.2 3.5]\n",
      "uint32 [1 3]\n"
     ]
    }
   ],
   "source": [
    "# ndarrays的数据类型\n",
    "# dtype是NumPy灵活交互其它系统的源泉之一，通常只需要知道你所处理的数据的大致类型是浮点数、复数、整数、布尔值、字符串，还是普通的Python对象即可。当你需要控制数据在内存和磁盘中的存储方式时（尤其是对大数据集），那就得了解如何控制存储类型。\n",
    "arr_dtype = np.array([1.2,3.5])\n",
    "print(arr_dtype.dtype, arr_dtype)\n",
    "arr_dtype_float = arr_dtype.astype(np.uint32) # 笔记：调用astype总会创建一个新的数组（一个数据的备份），即使新的dtype与旧的dtype相同。\n",
    "print(arr_dtype_float.dtype, arr_dtype_float)\n",
    "# 可以看到经过类型转换小数部分被截掉"
   ]
  },
  {
   "cell_type": "markdown",
   "metadata": {},
   "source": [
    "### Arithmetic with NumPy Arrays"
   ]
  },
  {
   "cell_type": "code",
   "execution_count": 106,
   "metadata": {},
   "outputs": [
    {
     "name": "stdout",
     "output_type": "stream",
     "text": [
      "[[ 1.  4.  9.]\n",
      " [16. 25. 36.]]\n",
      "[[ True False  True]\n",
      " [False  True False]]\n"
     ]
    }
   ],
   "source": [
    "arr_arithmetic = np.array([[1., 2., 3.], [4., 5., 6.]])\n",
    "arr_arithmetic2 = np.array([[0., 4., 1.], [7., 2., 12.]])\n",
    "print(arr_arithmetic * arr_arithmetic) # 支持python方式的四则运算\n",
    "print(arr_arithmetic>=arr_arithmetic2) # 比大小 不同大小的数组之间的运算叫做广播（broadcasting）"
   ]
  },
  {
   "cell_type": "markdown",
   "metadata": {},
   "source": [
    "### Basic indexing and slicing"
   ]
  },
  {
   "cell_type": "code",
   "execution_count": 131,
   "metadata": {},
   "outputs": [
    {
     "name": "stdout",
     "output_type": "stream",
     "text": [
      "[0 1 2 3 4 5 6 7 8 9]\n",
      "[0 1 2 3 4 5 6 7]\n",
      "[1 1 2 3 4 5 6 7 8 9]\n",
      "[5 6 7]\n",
      "[    1     1     2     3     4 12345     6     7     8     9]\n",
      "[1 1 2 3 4 0 0 0 8 9]\n"
     ]
    }
   ],
   "source": [
    "arr = np.arange(10)\n",
    "print(arr)\n",
    "print(arr[0:8]) # 切片，前闭后开取值\n",
    "arr[0:1]=1.5 # 会裁掉小数点\n",
    "print(arr)\n",
    "# 当将一个标量赋值给一个切片时，该值会自动传播到整个选区。\n",
    "# 跟列表最重要的区别在于，数组切片是原始数组的视图。这意味着数据不会被复制，视图上的任何修改都会直接反映到源数组上。\n",
    "\n",
    "arr_slice = arr[5:8]\n",
    "print(arr_slice)\n",
    "arr_slice[0] = 12345\n",
    "print(arr)\n",
    "arr_slice[:] = 0\n",
    "print(arr)\n",
    "# 注意：如果你想要得到的是ndarray切I片的一份副本而非视图，就需要明确地进行复制操作，例如arr[5:8].copy()。"
   ]
  },
  {
   "cell_type": "markdown",
   "metadata": {},
   "source": [
    "#### Indexing with slices - 切片索引"
   ]
  },
  {
   "cell_type": "code",
   "execution_count": 160,
   "metadata": {},
   "outputs": [
    {
     "name": "stdout",
     "output_type": "stream",
     "text": [
      "(2, 2)\n",
      "注意维度 (3,) (3,) (1, 3)\n"
     ]
    }
   ],
   "source": [
    "arr2d = np.array([[1, 2, 3], [4, 5, 6], [7, 8, 9]])\n",
    "arr2d_sli = arr2d[:2,1:] # 取2行，索引1之后的数据\n",
    "print(arr2d_sli.shape)\n",
    "print(\"注意维度\",arr2d[2].shape, arr2d[2,:].shape, arr2d[2:,:].shape) # 不同切法维度不一样"
   ]
  },
  {
   "cell_type": "markdown",
   "metadata": {},
   "source": [
    "### Boolean Indexing"
   ]
  },
  {
   "cell_type": "code",
   "execution_count": 174,
   "metadata": {},
   "outputs": [
    {
     "name": "stdout",
     "output_type": "stream",
     "text": [
      "[ True False False  True False False False]\n",
      "[[ 0.98800913 -0.86595461]\n",
      " [ 0.65033158  0.50023587]\n",
      " [-0.05007125 -1.58476113]\n",
      " [-0.6514854   0.17825125]\n",
      " [ 1.29464824 -1.20621152]]\n",
      "\n",
      "\n",
      "[[-2.49374548  0.03890557  0.6791203  -0.36592296]\n",
      " [-0.78708169 -0.69738032  0.65033158  0.50023587]\n",
      " [-0.54428751  0.01238826 -2.47177124 -0.39092149]\n",
      " [ 1.49113396  0.64832223 -0.05007125 -1.58476113]]\n"
     ]
    }
   ],
   "source": [
    "# 还有这种操作？\n",
    "names = np.array(['Bob', 'Joe', 'Will', 'Bob', 'Will', 'Joe', 'Joe'])\n",
    "data = np.random.randn(7, 4)\n",
    "\n",
    "## 神奇的来了\n",
    "cond = names == 'Bob' # 根据条件形成布尔索引的ndarray对象\n",
    "print(cond)\n",
    "print(data[~cond, 2:])\n",
    "print(\"\\n\")\n",
    "mask = (names == 'Bob') | (names == 'Will') # 来个稍微复杂的\n",
    "print(data[mask])"
   ]
  },
  {
   "cell_type": "markdown",
   "metadata": {},
   "source": [
    "### Fancy Indexing - 花式索引"
   ]
  },
  {
   "cell_type": "markdown",
   "metadata": {},
   "source": [
    "花式索引（Fancy indexing）是一个NumPy术语，它指的是利用整数数组进行索引。"
   ]
  },
  {
   "cell_type": "code",
   "execution_count": 188,
   "metadata": {},
   "outputs": [
    {
     "data": {
      "text/plain": [
       "array([28, 23, 29, 10])"
      ]
     },
     "execution_count": 188,
     "metadata": {},
     "output_type": "execute_result"
    }
   ],
   "source": [
    "arr = np.arange(32).reshape((8, 4))\n",
    "arr[[-1,5,7,2],[0,3,1,2]] # 利用数组做索引取值\n",
    "# 无论数组是多少维的，花式索引总是一维的。"
   ]
  },
  {
   "cell_type": "code",
   "execution_count": 191,
   "metadata": {},
   "outputs": [
    {
     "data": {
      "text/plain": [
       "array([[ 4,  7,  5,  6],\n",
       "       [20, 23, 21, 22],\n",
       "       [28, 31, 29, 30],\n",
       "       [ 8, 11,  9, 10]])"
      ]
     },
     "execution_count": 191,
     "metadata": {},
     "output_type": "execute_result"
    }
   ],
   "source": [
    "# 这个是没看懂的部分\n",
    "arr[[1, 5, 7, 2]][:, [0, 3, 1, 2]]\n",
    "# 记住，花式索引跟切片不一样，它总是将数据复制到新数组中。"
   ]
  },
  {
   "cell_type": "markdown",
   "metadata": {},
   "source": [
    "### Transposing Arrays and Swapping Axes"
   ]
  },
  {
   "cell_type": "markdown",
   "metadata": {},
   "source": [
    "转置是返回的是源数据的视图，不会复制"
   ]
  },
  {
   "cell_type": "code",
   "execution_count": 195,
   "metadata": {},
   "outputs": [
    {
     "data": {
      "text/plain": [
       "array([[ 0,  4,  8, 12, 16, 20, 24, 28],\n",
       "       [ 1,  5,  9, 13, 17, 21, 25, 29],\n",
       "       [ 2,  6, 10, 14, 18, 22, 26, 30],\n",
       "       [ 3,  7, 11, 15, 19, 23, 27, 31]])"
      ]
     },
     "execution_count": 195,
     "metadata": {},
     "output_type": "execute_result"
    }
   ],
   "source": [
    "arr = np.arange(32).reshape(8,4)\n",
    "arr\n",
    "arr.T # 求转置矩阵"
   ]
  },
  {
   "cell_type": "code",
   "execution_count": 198,
   "metadata": {},
   "outputs": [
    {
     "data": {
      "text/plain": [
       "array([[[ 0,  4],\n",
       "        [ 1,  5],\n",
       "        [ 2,  6],\n",
       "        [ 3,  7]],\n",
       "\n",
       "       [[ 8, 12],\n",
       "        [ 9, 13],\n",
       "        [10, 14],\n",
       "        [11, 15]]])"
      ]
     },
     "execution_count": 198,
     "metadata": {},
     "output_type": "execute_result"
    }
   ],
   "source": [
    "arr.swapaxes(1,2) "
   ]
  },
  {
   "cell_type": "markdown",
   "metadata": {},
   "source": [
    "??? 对于高维数组，transpose需要得到一个由轴编号组成的元组才能对这些轴进行转置"
   ]
  },
  {
   "cell_type": "code",
   "execution_count": 200,
   "metadata": {},
   "outputs": [
    {
     "name": "stdout",
     "output_type": "stream",
     "text": [
      "[[[ 0  1  2  3]\n",
      "  [ 4  5  6  7]]\n",
      "\n",
      " [[ 8  9 10 11]\n",
      "  [12 13 14 15]]]\n"
     ]
    },
    {
     "data": {
      "text/plain": [
       "array([[[ 0,  1,  2,  3],\n",
       "        [ 8,  9, 10, 11]],\n",
       "\n",
       "       [[ 4,  5,  6,  7],\n",
       "        [12, 13, 14, 15]]])"
      ]
     },
     "execution_count": 200,
     "metadata": {},
     "output_type": "execute_result"
    }
   ],
   "source": [
    "arr = np.arange(16).reshape((2, 2, 4))\n",
    "print(arr)\n",
    "arr.transpose((1,0,2))"
   ]
  },
  {
   "cell_type": "markdown",
   "metadata": {},
   "source": [
    "## 4.2 Universal Functions: Fast Element-Wise Array"
   ]
  },
  {
   "cell_type": "code",
   "execution_count": 212,
   "metadata": {},
   "outputs": [
    {
     "name": "stdout",
     "output_type": "stream",
     "text": [
      "[0.         1.         1.41421356 1.73205081 2.         2.23606798\n",
      " 2.44948974 2.64575131 2.82842712 3.        ]\n",
      "[  1.   2.   4.   8.  16.  32.  64. 128. 256. 512.]\n",
      "\n",
      "\n",
      "[ 0.80555581 -0.57377696  2.35461918  0.36713285  0.03565297 -1.92216886\n",
      " -0.53663091  0.93477407] \n",
      " [-0.49801934 -0.02335047 -1.55624425  0.19719255  0.77285658  0.52273112\n",
      " -0.08411199  1.60011814]\n",
      "[ 0.80555581 -0.02335047  2.35461918  0.36713285  0.77285658  0.52273112\n",
      " -0.08411199  1.60011814]\n",
      "(array([ 0.80555581, -0.57377696,  0.35461918,  0.36713285,  0.03565297,\n",
      "       -0.92216886, -0.53663091,  0.93477407]), array([ 0., -0.,  2.,  0.,  0., -1., -0.,  0.]))\n"
     ]
    }
   ],
   "source": [
    "arr = np.arange(10)\n",
    "# 一元通用函数(unary ufunc)\n",
    "print(np.sqrt(arr))\n",
    "print(np.exp2(arr))\n",
    "print(\"\\n\")\n",
    "# 二元通用函数(binary ufunc)\n",
    "x = np.random.randn(8)\n",
    "y = np.random.randn(8)\n",
    "print(x,\"\\n\", y)\n",
    "print(np.maximum(x, y)) # 求最大元素\n",
    "print(np.modf(x)) # 求浮点数的ndarray的整数和小数部分"
   ]
  },
  {
   "attachments": {},
   "cell_type": "markdown",
   "metadata": {},
   "source": [
    "![](https://i.loli.net/2019/08/06/mHvg87Izl2KDAFM.jpg)\n",
    "![](https://i.loli.net/2019/08/06/zG3xu17bIo4jelK.jpg)\n",
    "![](https://i.loli.net/2019/08/06/FP3LeXN5EySr9ni.jpg)"
   ]
  },
  {
   "cell_type": "markdown",
   "metadata": {},
   "source": [
    "## 4.3 Array-Oriented Programming with Arrays"
   ]
  },
  {
   "cell_type": "code",
   "execution_count": null,
   "metadata": {},
   "outputs": [],
   "source": []
  }
 ],
 "metadata": {
  "kernelspec": {
   "display_name": "Python 3",
   "language": "python",
   "name": "python3"
  },
  "language_info": {
   "codemirror_mode": {
    "name": "ipython",
    "version": 3
   },
   "file_extension": ".py",
   "mimetype": "text/x-python",
   "name": "python",
   "nbconvert_exporter": "python",
   "pygments_lexer": "ipython3",
   "version": "3.6.5"
  }
 },
 "nbformat": 4,
 "nbformat_minor": 2
}
